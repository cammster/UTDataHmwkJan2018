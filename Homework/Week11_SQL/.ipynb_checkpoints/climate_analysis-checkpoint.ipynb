{
 "cells": [
  {
   "cell_type": "markdown",
   "metadata": {},
   "source": [
    "## Step 3: Climate Exploration & Analysis\n",
    "* Choose a start date and end date for your trip. Make sure that your vacation range is approximately 3-15 days total.\n",
    "\n",
    "* Use SQLAlchemy create_engine to connect to your sqlite database.\n",
    "\n",
    "* Use SQLAlchemy automap_base() to reflect your tables into classes and save a reference to those classes called Station and Measurement."
   ]
  },
  {
   "cell_type": "code",
   "execution_count": 72,
   "metadata": {
    "collapsed": true
   },
   "outputs": [],
   "source": [
    "import pandas as pd\n",
    "import matplotlib.pyplot as plt\n",
    "import sqlalchemy\n",
    "from datetime import datetime\n",
    "from sqlalchemy.ext.automap import automap_base\n",
    "from sqlalchemy.orm import Session\n",
    "from sqlalchemy import create_engine, inspect, func, MetaData\n",
    "from sqlalchemy.ext.declarative import declarative_base\n",
    "from sqlalchemy import Table, Column, ForeignKey, Integer, String, Numeric, Text, Float, Date\n",
    "from sqlalchemy.orm import relationship\n",
    "from datetime import datetime\n",
    "from datetime import timedelta\n",
    "from datetime import date\n",
    "import numpy as np\n",
    "import seaborn as sns\n",
    "from collections import OrderedDict\n",
    "from flask import Flask, jsonify"
   ]
  },
  {
   "cell_type": "markdown",
   "metadata": {},
   "source": [
    "#### Connect to database , Get Tables & Columns "
   ]
  },
  {
   "cell_type": "code",
   "execution_count": 3,
   "metadata": {
    "collapsed": true
   },
   "outputs": [],
   "source": [
    "engine=create_engine(\"sqlite:///hawaii.sqlite\",echo=False)"
   ]
  },
  {
   "cell_type": "code",
   "execution_count": 4,
   "metadata": {},
   "outputs": [
    {
     "data": {
      "text/plain": [
       "['measurements', 'stations']"
      ]
     },
     "execution_count": 4,
     "metadata": {},
     "output_type": "execute_result"
    }
   ],
   "source": [
    "inspector=inspect(engine)\n",
    "inspector.get_table_names()"
   ]
  },
  {
   "cell_type": "code",
   "execution_count": 5,
   "metadata": {},
   "outputs": [
    {
     "name": "stdout",
     "output_type": "stream",
     "text": [
      "id INTEGER\n",
      "station TEXT\n",
      "date DATE\n",
      "prcp NUMERIC\n",
      "tobs INTEGER\n"
     ]
    }
   ],
   "source": [
    "m_columns=inspector.get_columns('measurements')\n",
    "for c in m_columns:\n",
    "    print (c[\"name\"],c[\"type\"])"
   ]
  },
  {
   "cell_type": "code",
   "execution_count": 6,
   "metadata": {},
   "outputs": [
    {
     "name": "stdout",
     "output_type": "stream",
     "text": [
      "id INTEGER\n",
      "station TEXT\n",
      "name TEXT\n",
      "latitude NUMERIC\n",
      "longitude NUMERIC\n",
      "elevation NUMERIC\n"
     ]
    }
   ],
   "source": [
    "s_columns=inspector.get_columns(\"stations\")\n",
    "for c in s_columns:\n",
    "    print (c[\"name\"],c[\"type\"])"
   ]
  },
  {
   "cell_type": "code",
   "execution_count": 7,
   "metadata": {},
   "outputs": [
    {
     "data": {
      "text/plain": [
       "[(1, 'USC00519397', 'WAIKIKI 717.2, HI US', 21.2716, -157.8168, 3),\n",
       " (2, 'USC00513117', 'KANEOHE 838.1, HI US', 21.4234, -157.8015, 14.6),\n",
       " (3, 'USC00514830', 'KUALOA RANCH HEADQUARTERS 886.9, HI US', 21.5213, -157.8374, 7),\n",
       " (4, 'USC00517948', 'PEARL CITY, HI US', 21.3934, -157.9751, 11.9),\n",
       " (5, 'USC00518838', 'UPPER WAHIAWA 874.3, HI US', 21.4992, -158.0111, 306.6)]"
      ]
     },
     "execution_count": 7,
     "metadata": {},
     "output_type": "execute_result"
    }
   ],
   "source": [
    "engine.execute(\"SELECT * FROM stations LIMIT 5\").fetchall()"
   ]
  },
  {
   "cell_type": "code",
   "execution_count": 8,
   "metadata": {
    "collapsed": true
   },
   "outputs": [],
   "source": [
    "vacay_start=\"2018-08-10\"\n",
    "vacay_end=\"2018-08-25\""
   ]
  },
  {
   "cell_type": "markdown",
   "metadata": {},
   "source": [
    "#### Reflect tables as classes and save as a reference"
   ]
  },
  {
   "cell_type": "code",
   "execution_count": 9,
   "metadata": {
    "collapsed": true
   },
   "outputs": [],
   "source": [
    "Base=automap_base()\n",
    "Base.prepare(engine,reflect=True)"
   ]
  },
  {
   "cell_type": "code",
   "execution_count": 10,
   "metadata": {
    "collapsed": true
   },
   "outputs": [],
   "source": [
    "station=Base.classes.stations\n",
    "measurement=Base.classes.measurements"
   ]
  },
  {
   "cell_type": "markdown",
   "metadata": {},
   "source": [
    "#### Precipitation Analysis\n",
    "* Design a query to retrieve the last 12 months of precipitation data.\n",
    "* Select only the date and prcp values.\n",
    "* Load the query results into a Pandas DataFrame and set the index to the date column.\n",
    "* Plot the results using the DataFrame plot method.\n",
    "* Use Pandas to print the summary statistics for the precipitation data."
   ]
  },
  {
   "cell_type": "code",
   "execution_count": 11,
   "metadata": {
    "collapsed": true
   },
   "outputs": [],
   "source": [
    "session=Session(engine)"
   ]
  },
  {
   "cell_type": "code",
   "execution_count": 12,
   "metadata": {},
   "outputs": [
    {
     "data": {
      "text/plain": [
       "(datetime.date(2010, 1, 1))"
      ]
     },
     "execution_count": 12,
     "metadata": {},
     "output_type": "execute_result"
    }
   ],
   "source": [
    "earliest_date=session.query(measurement.date).order_by(measurement.date).first()\n",
    "earliest_date"
   ]
  },
  {
   "cell_type": "code",
   "execution_count": 13,
   "metadata": {},
   "outputs": [
    {
     "data": {
      "text/plain": [
       "(datetime.date(2017, 8, 23))"
      ]
     },
     "execution_count": 13,
     "metadata": {},
     "output_type": "execute_result"
    }
   ],
   "source": [
    "latest_date=session.query(measurement.date).order_by(measurement.date.desc()).first()\n",
    "latest_date"
   ]
  },
  {
   "cell_type": "code",
   "execution_count": 14,
   "metadata": {},
   "outputs": [
    {
     "data": {
      "text/plain": [
       "datetime.date(2016, 8, 23)"
      ]
     },
     "execution_count": 14,
     "metadata": {},
     "output_type": "execute_result"
    }
   ],
   "source": [
    "query_start=latest_date[0]-timedelta(days=365)\n",
    "query_start"
   ]
  },
  {
   "cell_type": "markdown",
   "metadata": {},
   "source": [
    "Query Database for Dates Greater than Query Start Date, Order by Date"
   ]
  },
  {
   "cell_type": "code",
   "execution_count": 15,
   "metadata": {},
   "outputs": [
    {
     "name": "stderr",
     "output_type": "stream",
     "text": [
      "C:\\Users\\Andrea\\Anaconda3\\envs\\PythonData\\lib\\site-packages\\sqlalchemy\\sql\\sqltypes.py:603: SAWarning: Dialect sqlite+pysqlite does *not* support Decimal objects natively, and SQLAlchemy must convert from floating point - rounding errors and other issues may occur. Please consider storing Decimal numbers as strings or integers on this platform for lossless storage.\n",
      "  'storage.' % (dialect.name, dialect.driver))\n"
     ]
    }
   ],
   "source": [
    "past12prcp=session.query(measurement.date,measurement.prcp).filter(measurement.date > query_start).order_by(measurement.date).all()"
   ]
  },
  {
   "cell_type": "code",
   "execution_count": 16,
   "metadata": {},
   "outputs": [
    {
     "data": {
      "text/plain": [
       "[(datetime.date(2016, 8, 24), Decimal('0.0800000000')),\n",
       " (datetime.date(2016, 8, 24), Decimal('2.1500000000')),\n",
       " (datetime.date(2016, 8, 24), Decimal('2.2800000000')),\n",
       " (datetime.date(2016, 8, 24), Decimal('0E-10')),\n",
       " (datetime.date(2016, 8, 24), Decimal('1.2200000000')),\n",
       " (datetime.date(2016, 8, 24), Decimal('2.1500000000')),\n",
       " (datetime.date(2016, 8, 24), Decimal('1.4500000000')),\n",
       " (datetime.date(2016, 8, 25), Decimal('0.0800000000')),\n",
       " (datetime.date(2016, 8, 25), Decimal('0.0800000000')),\n",
       " (datetime.date(2016, 8, 25), Decimal('0E-10')),\n",
       " (datetime.date(2016, 8, 25), Decimal('0E-10')),\n",
       " (datetime.date(2016, 8, 25), Decimal('0.2100000000')),\n",
       " (datetime.date(2016, 8, 25), Decimal('0.0600000000')),\n",
       " (datetime.date(2016, 8, 25), Decimal('0.1100000000')),\n",
       " (datetime.date(2016, 8, 26), Decimal('0E-10')),\n",
       " (datetime.date(2016, 8, 26), Decimal('0.0300000000')),\n",
       " (datetime.date(2016, 8, 26), Decimal('0.0200000000')),\n",
       " (datetime.date(2016, 8, 26), Decimal('0.0400000000')),\n",
       " (datetime.date(2016, 8, 26), Decimal('0E-10')),\n",
       " (datetime.date(2016, 8, 26), Decimal('0.0100000000')),\n",
       " (datetime.date(2016, 8, 27), Decimal('0E-10')),\n",
       " (datetime.date(2016, 8, 27), Decimal('0.1800000000')),\n",
       " (datetime.date(2016, 8, 27), Decimal('0.0200000000')),\n",
       " (datetime.date(2016, 8, 27), Decimal('0E-10')),\n",
       " (datetime.date(2016, 8, 27), Decimal('0.1200000000')),\n",
       " (datetime.date(2016, 8, 27), Decimal('0E-10')),\n",
       " (datetime.date(2016, 8, 28), Decimal('0.0100000000')),\n",
       " (datetime.date(2016, 8, 28), Decimal('0.1400000000')),\n",
       " (datetime.date(2016, 8, 28), Decimal('0.1400000000')),\n",
       " (datetime.date(2016, 8, 28), Decimal('0.1400000000')),\n",
       " (datetime.date(2016, 8, 28), Decimal('0.6000000000')),\n",
       " (datetime.date(2016, 8, 28), Decimal('2.0700000000')),\n",
       " (datetime.date(2016, 8, 29), Decimal('0E-10')),\n",
       " (datetime.date(2016, 8, 29), Decimal('0.1700000000')),\n",
       " (datetime.date(2016, 8, 29), Decimal('0.0400000000')),\n",
       " (datetime.date(2016, 8, 29), Decimal('0E-10')),\n",
       " (datetime.date(2016, 8, 29), Decimal('0E-10')),\n",
       " (datetime.date(2016, 8, 29), Decimal('0.3500000000')),\n",
       " (datetime.date(2016, 8, 29), Decimal('0.9000000000')),\n",
       " (datetime.date(2016, 8, 30), Decimal('0E-10')),\n",
       " (datetime.date(2016, 8, 30), Decimal('0E-10')),\n",
       " (datetime.date(2016, 8, 30), Decimal('0.0200000000')),\n",
       " (datetime.date(2016, 8, 30), Decimal('0E-10')),\n",
       " (datetime.date(2016, 8, 30), Decimal('0E-10')),\n",
       " (datetime.date(2016, 8, 30), Decimal('0.0500000000')),\n",
       " (datetime.date(2016, 8, 31), Decimal('0.1300000000')),\n",
       " (datetime.date(2016, 8, 31), Decimal('0.1000000000')),\n",
       " (datetime.date(2016, 8, 31), Decimal('0E-10')),\n",
       " (datetime.date(2016, 8, 31), Decimal('0E-10')),\n",
       " (datetime.date(2016, 8, 31), Decimal('0.2500000000')),\n",
       " (datetime.date(2016, 8, 31), Decimal('0.2400000000')),\n",
       " (datetime.date(2016, 8, 31), Decimal('2.4600000000')),\n",
       " (datetime.date(2016, 9, 1), Decimal('0E-10')),\n",
       " (datetime.date(2016, 9, 1), Decimal('0E-10')),\n",
       " (datetime.date(2016, 9, 1), Decimal('0E-10')),\n",
       " (datetime.date(2016, 9, 1), Decimal('0E-10')),\n",
       " (datetime.date(2016, 9, 1), Decimal('0.0200000000')),\n",
       " (datetime.date(2016, 9, 1), Decimal('0.0100000000')),\n",
       " (datetime.date(2016, 9, 2), Decimal('0E-10')),\n",
       " (datetime.date(2016, 9, 2), Decimal('0.0200000000')),\n",
       " (datetime.date(2016, 9, 2), Decimal('0.1900000000')),\n",
       " (datetime.date(2016, 9, 2), Decimal('0E-10')),\n",
       " (datetime.date(2016, 9, 2), Decimal('0E-10')),\n",
       " (datetime.date(2016, 9, 2), Decimal('0.0100000000')),\n",
       " (datetime.date(2016, 9, 2), Decimal('0.0300000000')),\n",
       " (datetime.date(2016, 9, 3), Decimal('0E-10')),\n",
       " (datetime.date(2016, 9, 3), Decimal('0.0700000000')),\n",
       " (datetime.date(2016, 9, 3), Decimal('0.0800000000')),\n",
       " (datetime.date(2016, 9, 3), Decimal('0.1200000000')),\n",
       " (datetime.date(2016, 9, 3), Decimal('1.0000000000')),\n",
       " (datetime.date(2016, 9, 4), Decimal('0.0300000000')),\n",
       " (datetime.date(2016, 9, 4), Decimal('0.0300000000')),\n",
       " (datetime.date(2016, 9, 4), Decimal('0.7400000000')),\n",
       " (datetime.date(2016, 9, 4), Decimal('0.1400000000')),\n",
       " (datetime.date(2016, 9, 4), Decimal('0.4400000000')),\n",
       " (datetime.date(2016, 9, 5), Decimal('0E-10')),\n",
       " (datetime.date(2016, 9, 5), Decimal('0.1100000000')),\n",
       " (datetime.date(2016, 9, 5), Decimal('0E-10')),\n",
       " (datetime.date(2016, 9, 5), Decimal('0.0200000000')),\n",
       " (datetime.date(2016, 9, 5), Decimal('0.0300000000')),\n",
       " (datetime.date(2016, 9, 5), Decimal('0.1800000000')),\n",
       " (datetime.date(2016, 9, 6), Decimal('0E-10')),\n",
       " (datetime.date(2016, 9, 6), Decimal('0.0500000000')),\n",
       " (datetime.date(2016, 9, 6), Decimal('0.0400000000')),\n",
       " (datetime.date(2016, 9, 6), Decimal('0.0300000000')),\n",
       " (datetime.date(2016, 9, 6), Decimal('0.1100000000')),\n",
       " (datetime.date(2016, 9, 6), Decimal('1.0000000000')),\n",
       " (datetime.date(2016, 9, 7), Decimal('0.0500000000')),\n",
       " (datetime.date(2016, 9, 7), Decimal('0.1000000000')),\n",
       " (datetime.date(2016, 9, 7), Decimal('0.2300000000')),\n",
       " (datetime.date(2016, 9, 7), Decimal('0.1100000000')),\n",
       " (datetime.date(2016, 9, 7), Decimal('0.1600000000')),\n",
       " (datetime.date(2016, 9, 7), Decimal('1.3500000000')),\n",
       " (datetime.date(2016, 9, 8), Decimal('0E-10')),\n",
       " (datetime.date(2016, 9, 8), Decimal('0.2200000000')),\n",
       " (datetime.date(2016, 9, 8), Decimal('0.0100000000')),\n",
       " (datetime.date(2016, 9, 8), Decimal('0E-10')),\n",
       " (datetime.date(2016, 9, 8), Decimal('0.0100000000')),\n",
       " (datetime.date(2016, 9, 8), Decimal('0.0700000000')),\n",
       " (datetime.date(2016, 9, 8), Decimal('0.1500000000')),\n",
       " (datetime.date(2016, 9, 9), Decimal('0.0300000000')),\n",
       " (datetime.date(2016, 9, 9), Decimal('0.0100000000')),\n",
       " (datetime.date(2016, 9, 9), Decimal('0.2900000000')),\n",
       " (datetime.date(2016, 9, 9), Decimal('0E-10')),\n",
       " (datetime.date(2016, 9, 9), Decimal('0.2300000000')),\n",
       " (datetime.date(2016, 9, 9), Decimal('0.1600000000')),\n",
       " (datetime.date(2016, 9, 9), Decimal('0.3500000000')),\n",
       " (datetime.date(2016, 9, 10), Decimal('0E-10')),\n",
       " (datetime.date(2016, 9, 10), Decimal('0.0100000000')),\n",
       " (datetime.date(2016, 9, 10), Decimal('0.1400000000')),\n",
       " (datetime.date(2016, 9, 10), Decimal('0.0900000000')),\n",
       " (datetime.date(2016, 9, 10), Decimal('1.1600000000')),\n",
       " (datetime.date(2016, 9, 11), Decimal('0.0500000000')),\n",
       " (datetime.date(2016, 9, 11), Decimal('0.1800000000')),\n",
       " (datetime.date(2016, 9, 11), Decimal('0.1200000000')),\n",
       " (datetime.date(2016, 9, 11), Decimal('0.3000000000')),\n",
       " (datetime.date(2016, 9, 11), Decimal('0.6000000000')),\n",
       " (datetime.date(2016, 9, 12), Decimal('0E-10')),\n",
       " (datetime.date(2016, 9, 12), Decimal('0.0400000000')),\n",
       " (datetime.date(2016, 9, 12), Decimal('0E-10')),\n",
       " (datetime.date(2016, 9, 12), Decimal('0E-10')),\n",
       " (datetime.date(2016, 9, 12), Decimal('0.1500000000')),\n",
       " (datetime.date(2016, 9, 12), Decimal('0.3100000000')),\n",
       " (datetime.date(2016, 9, 12), Decimal('1.0400000000')),\n",
       " (datetime.date(2016, 9, 13), Decimal('0.0200000000')),\n",
       " (datetime.date(2016, 9, 13), Decimal('0.3700000000')),\n",
       " (datetime.date(2016, 9, 13), Decimal('0.3200000000')),\n",
       " (datetime.date(2016, 9, 13), Decimal('0E-10')),\n",
       " (datetime.date(2016, 9, 13), Decimal('0.4600000000')),\n",
       " (datetime.date(2016, 9, 13), Decimal('0.3400000000')),\n",
       " (datetime.date(2016, 9, 13), Decimal('1.2000000000')),\n",
       " (datetime.date(2016, 9, 14), Decimal('1.3200000000')),\n",
       " (datetime.date(2016, 9, 14), Decimal('0.9000000000')),\n",
       " (datetime.date(2016, 9, 14), Decimal('1.8400000000')),\n",
       " (datetime.date(2016, 9, 14), Decimal('0E-10')),\n",
       " (datetime.date(2016, 9, 14), Decimal('1.1900000000')),\n",
       " (datetime.date(2016, 9, 14), Decimal('2.3300000000')),\n",
       " (datetime.date(2016, 9, 14), Decimal('6.7000000000')),\n",
       " (datetime.date(2016, 9, 15), Decimal('0.4200000000')),\n",
       " (datetime.date(2016, 9, 15), Decimal('0.1200000000')),\n",
       " (datetime.date(2016, 9, 15), Decimal('0.0700000000')),\n",
       " (datetime.date(2016, 9, 15), Decimal('0E-10')),\n",
       " (datetime.date(2016, 9, 15), Decimal('0.1700000000')),\n",
       " (datetime.date(2016, 9, 15), Decimal('0.8300000000')),\n",
       " (datetime.date(2016, 9, 15), Decimal('3.3500000000')),\n",
       " (datetime.date(2016, 9, 16), Decimal('0.0600000000')),\n",
       " (datetime.date(2016, 9, 16), Decimal('0.0100000000')),\n",
       " (datetime.date(2016, 9, 16), Decimal('0.0700000000')),\n",
       " (datetime.date(2016, 9, 16), Decimal('0E-10')),\n",
       " (datetime.date(2016, 9, 16), Decimal('0.0100000000')),\n",
       " (datetime.date(2016, 9, 16), Decimal('0.0600000000')),\n",
       " (datetime.date(2016, 9, 16), Decimal('0.6100000000')),\n",
       " (datetime.date(2016, 9, 17), Decimal('0.0500000000')),\n",
       " (datetime.date(2016, 9, 17), Decimal('0.0400000000')),\n",
       " (datetime.date(2016, 9, 17), Decimal('0E-10')),\n",
       " (datetime.date(2016, 9, 17), Decimal('0.3600000000')),\n",
       " (datetime.date(2016, 9, 17), Decimal('0.2300000000')),\n",
       " (datetime.date(2016, 9, 18), Decimal('0E-10')),\n",
       " (datetime.date(2016, 9, 18), Decimal('0E-10')),\n",
       " (datetime.date(2016, 9, 18), Decimal('0.0400000000')),\n",
       " (datetime.date(2016, 9, 18), Decimal('0.0700000000')),\n",
       " (datetime.date(2016, 9, 18), Decimal('0.4200000000')),\n",
       " (datetime.date(2016, 9, 19), Decimal('0E-10')),\n",
       " (datetime.date(2016, 9, 19), Decimal('0.0100000000')),\n",
       " (datetime.date(2016, 9, 19), Decimal('0E-10')),\n",
       " (datetime.date(2016, 9, 19), Decimal('0E-10')),\n",
       " (datetime.date(2016, 9, 19), Decimal('0.0500000000')),\n",
       " (datetime.date(2016, 9, 19), Decimal('0.0100000000')),\n",
       " (datetime.date(2016, 9, 19), Decimal('0.2500000000')),\n",
       " (datetime.date(2016, 9, 20), Decimal('0E-10')),\n",
       " (datetime.date(2016, 9, 20), Decimal('0.0900000000')),\n",
       " (datetime.date(2016, 9, 20), Decimal('0.2500000000')),\n",
       " (datetime.date(2016, 9, 20), Decimal('0E-10')),\n",
       " (datetime.date(2016, 9, 20), Decimal('0.0400000000')),\n",
       " (datetime.date(2016, 9, 20), Decimal('0.2200000000')),\n",
       " (datetime.date(2016, 9, 20), Decimal('0.4300000000')),\n",
       " (datetime.date(2016, 9, 21), Decimal('0E-10')),\n",
       " (datetime.date(2016, 9, 21), Decimal('0.0600000000')),\n",
       " (datetime.date(2016, 9, 21), Decimal('0.0200000000')),\n",
       " (datetime.date(2016, 9, 21), Decimal('0E-10')),\n",
       " (datetime.date(2016, 9, 21), Decimal('0.0700000000')),\n",
       " (datetime.date(2016, 9, 21), Decimal('1.0200000000')),\n",
       " (datetime.date(2016, 9, 22), Decimal('0.0200000000')),\n",
       " (datetime.date(2016, 9, 22), Decimal('0.0900000000')),\n",
       " (datetime.date(2016, 9, 22), Decimal('0.1700000000')),\n",
       " (datetime.date(2016, 9, 22), Decimal('0.0600000000')),\n",
       " (datetime.date(2016, 9, 22), Decimal('0.0100000000')),\n",
       " (datetime.date(2016, 9, 22), Decimal('0.3400000000')),\n",
       " (datetime.date(2016, 9, 22), Decimal('0.7500000000')),\n",
       " (datetime.date(2016, 9, 23), Decimal('0E-10')),\n",
       " (datetime.date(2016, 9, 23), Decimal('0.1500000000')),\n",
       " (datetime.date(2016, 9, 23), Decimal('0.1500000000')),\n",
       " (datetime.date(2016, 9, 23), Decimal('0E-10')),\n",
       " (datetime.date(2016, 9, 23), Decimal('0E-10')),\n",
       " (datetime.date(2016, 9, 23), Decimal('0.9400000000')),\n",
       " (datetime.date(2016, 9, 23), Decimal('0.3300000000')),\n",
       " (datetime.date(2016, 9, 24), Decimal('0E-10')),\n",
       " (datetime.date(2016, 9, 24), Decimal('0E-10')),\n",
       " (datetime.date(2016, 9, 24), Decimal('0E-10')),\n",
       " (datetime.date(2016, 9, 24), Decimal('0E-10')),\n",
       " (datetime.date(2016, 9, 24), Decimal('0.0100000000')),\n",
       " (datetime.date(2016, 9, 24), Decimal('0.2700000000')),\n",
       " (datetime.date(2016, 9, 25), Decimal('0E-10')),\n",
       " (datetime.date(2016, 9, 25), Decimal('0.0200000000')),\n",
       " (datetime.date(2016, 9, 25), Decimal('0E-10')),\n",
       " (datetime.date(2016, 9, 25), Decimal('0E-10')),\n",
       " (datetime.date(2016, 9, 25), Decimal('0.0300000000')),\n",
       " (datetime.date(2016, 9, 25), Decimal('0.0400000000')),\n",
       " (datetime.date(2016, 9, 26), Decimal('0.0600000000')),\n",
       " (datetime.date(2016, 9, 26), Decimal('0.0600000000')),\n",
       " (datetime.date(2016, 9, 26), Decimal('0.0200000000')),\n",
       " (datetime.date(2016, 9, 26), Decimal('0E-10')),\n",
       " (datetime.date(2016, 9, 26), Decimal('0.3400000000')),\n",
       " (datetime.date(2016, 9, 26), Decimal('0.1700000000')),\n",
       " (datetime.date(2016, 9, 26), Decimal('1.0200000000')),\n",
       " (datetime.date(2016, 9, 27), Decimal('0.0200000000')),\n",
       " (datetime.date(2016, 9, 27), Decimal('0.1200000000')),\n",
       " (datetime.date(2016, 9, 27), Decimal('0E-10')),\n",
       " (datetime.date(2016, 9, 27), Decimal('0.0500000000')),\n",
       " (datetime.date(2016, 9, 27), Decimal('0.1700000000')),\n",
       " (datetime.date(2016, 9, 27), Decimal('1.0000000000')),\n",
       " (datetime.date(2016, 9, 28), Decimal('0E-10')),\n",
       " (datetime.date(2016, 9, 28), Decimal('0.0800000000')),\n",
       " (datetime.date(2016, 9, 28), Decimal('0E-10')),\n",
       " (datetime.date(2016, 9, 28), Decimal('0E-10')),\n",
       " (datetime.date(2016, 9, 28), Decimal('0E-10')),\n",
       " (datetime.date(2016, 9, 28), Decimal('0E-10')),\n",
       " (datetime.date(2016, 9, 28), Decimal('0.0500000000')),\n",
       " (datetime.date(2016, 9, 29), Decimal('0E-10')),\n",
       " (datetime.date(2016, 9, 29), Decimal('0.4900000000')),\n",
       " (datetime.date(2016, 9, 29), Decimal('0.2000000000')),\n",
       " (datetime.date(2016, 9, 29), Decimal('0.0400000000')),\n",
       " (datetime.date(2016, 9, 29), Decimal('0.1800000000')),\n",
       " (datetime.date(2016, 9, 29), Decimal('0.5900000000')),\n",
       " (datetime.date(2016, 9, 29), Decimal('1.4900000000')),\n",
       " (datetime.date(2016, 9, 30), Decimal('0E-10')),\n",
       " (datetime.date(2016, 9, 30), Decimal('0.3100000000')),\n",
       " (datetime.date(2016, 9, 30), Decimal('0.0600000000')),\n",
       " (datetime.date(2016, 9, 30), Decimal('0E-10')),\n",
       " (datetime.date(2016, 9, 30), Decimal('0.1500000000')),\n",
       " (datetime.date(2016, 9, 30), Decimal('0.2500000000')),\n",
       " (datetime.date(2016, 9, 30), Decimal('0.3800000000')),\n",
       " (datetime.date(2016, 10, 1), Decimal('0E-10')),\n",
       " (datetime.date(2016, 10, 1), Decimal('0.1400000000')),\n",
       " (datetime.date(2016, 10, 1), Decimal('0.0800000000')),\n",
       " (datetime.date(2016, 10, 1), Decimal('0.0700000000')),\n",
       " (datetime.date(2016, 10, 1), Decimal('0.1400000000')),\n",
       " (datetime.date(2016, 10, 1), Decimal('1.0200000000')),\n",
       " (datetime.date(2016, 10, 2), Decimal('0E-10')),\n",
       " (datetime.date(2016, 10, 2), Decimal('0.0200000000')),\n",
       " (datetime.date(2016, 10, 2), Decimal('0.0300000000')),\n",
       " (datetime.date(2016, 10, 2), Decimal('0E-10')),\n",
       " (datetime.date(2016, 10, 2), Decimal('0.0600000000')),\n",
       " (datetime.date(2016, 10, 2), Decimal('0.6100000000')),\n",
       " (datetime.date(2016, 10, 3), Decimal('0E-10')),\n",
       " (datetime.date(2016, 10, 3), Decimal('0.0400000000')),\n",
       " (datetime.date(2016, 10, 3), Decimal('0.0300000000')),\n",
       " (datetime.date(2016, 10, 3), Decimal('0E-10')),\n",
       " (datetime.date(2016, 10, 3), Decimal('0E-10')),\n",
       " (datetime.date(2016, 10, 3), Decimal('0.1600000000')),\n",
       " (datetime.date(2016, 10, 3), Decimal('0.4600000000')),\n",
       " (datetime.date(2016, 10, 4), Decimal('0E-10')),\n",
       " (datetime.date(2016, 10, 4), Decimal('0E-10')),\n",
       " (datetime.date(2016, 10, 4), Decimal('0E-10')),\n",
       " (datetime.date(2016, 10, 4), Decimal('0E-10')),\n",
       " (datetime.date(2016, 10, 4), Decimal('0E-10')),\n",
       " (datetime.date(2016, 10, 4), Decimal('0.0300000000')),\n",
       " (datetime.date(2016, 10, 4), Decimal('3.4600000000')),\n",
       " (datetime.date(2016, 10, 5), Decimal('0E-10')),\n",
       " (datetime.date(2016, 10, 5), Decimal('0E-10')),\n",
       " (datetime.date(2016, 10, 5), Decimal('0E-10')),\n",
       " (datetime.date(2016, 10, 5), Decimal('0E-10')),\n",
       " (datetime.date(2016, 10, 5), Decimal('0E-10')),\n",
       " (datetime.date(2016, 10, 5), Decimal('0.0100000000')),\n",
       " (datetime.date(2016, 10, 5), Decimal('0.8100000000')),\n",
       " (datetime.date(2016, 10, 6), Decimal('0E-10')),\n",
       " (datetime.date(2016, 10, 6), Decimal('0.0500000000')),\n",
       " (datetime.date(2016, 10, 6), Decimal('0E-10')),\n",
       " (datetime.date(2016, 10, 6), Decimal('0.0700000000')),\n",
       " (datetime.date(2016, 10, 6), Decimal('0E-10')),\n",
       " (datetime.date(2016, 10, 6), Decimal('0E-10')),\n",
       " (datetime.date(2016, 10, 6), Decimal('0.0400000000')),\n",
       " (datetime.date(2016, 10, 7), Decimal('0E-10')),\n",
       " (datetime.date(2016, 10, 7), Decimal('0E-10')),\n",
       " (datetime.date(2016, 10, 7), Decimal('0E-10')),\n",
       " (datetime.date(2016, 10, 7), Decimal('0E-10')),\n",
       " (datetime.date(2016, 10, 7), Decimal('0E-10')),\n",
       " (datetime.date(2016, 10, 7), Decimal('0E-10')),\n",
       " (datetime.date(2016, 10, 7), Decimal('0.0100000000')),\n",
       " (datetime.date(2016, 10, 8), Decimal('0E-10')),\n",
       " (datetime.date(2016, 10, 8), Decimal('0E-10')),\n",
       " (datetime.date(2016, 10, 8), Decimal('0E-10')),\n",
       " (datetime.date(2016, 10, 8), Decimal('0E-10')),\n",
       " (datetime.date(2016, 10, 8), Decimal('0.0400000000')),\n",
       " (datetime.date(2016, 10, 9), Decimal('0E-10')),\n",
       " (datetime.date(2016, 10, 9), Decimal('0E-10')),\n",
       " (datetime.date(2016, 10, 9), Decimal('0E-10')),\n",
       " (datetime.date(2016, 10, 9), Decimal('0E-10')),\n",
       " (datetime.date(2016, 10, 9), Decimal('0E-10')),\n",
       " (datetime.date(2016, 10, 10), Decimal('0E-10')),\n",
       " (datetime.date(2016, 10, 10), Decimal('0E-10')),\n",
       " (datetime.date(2016, 10, 10), Decimal('0E-10')),\n",
       " (datetime.date(2016, 10, 10), Decimal('0E-10')),\n",
       " (datetime.date(2016, 10, 10), Decimal('0E-10')),\n",
       " (datetime.date(2016, 10, 10), Decimal('0E-10')),\n",
       " (datetime.date(2016, 10, 11), Decimal('0E-10')),\n",
       " (datetime.date(2016, 10, 11), Decimal('0.0200000000')),\n",
       " (datetime.date(2016, 10, 11), Decimal('0.0400000000')),\n",
       " (datetime.date(2016, 10, 11), Decimal('0E-10')),\n",
       " (datetime.date(2016, 10, 11), Decimal('0E-10')),\n",
       " (datetime.date(2016, 10, 11), Decimal('0.2800000000')),\n",
       " (datetime.date(2016, 10, 11), Decimal('0.3500000000')),\n",
       " (datetime.date(2016, 10, 12), Decimal('0E-10')),\n",
       " (datetime.date(2016, 10, 12), Decimal('0.0300000000')),\n",
       " (datetime.date(2016, 10, 12), Decimal('0E-10')),\n",
       " (datetime.date(2016, 10, 12), Decimal('0E-10')),\n",
       " (datetime.date(2016, 10, 12), Decimal('0.0300000000')),\n",
       " (datetime.date(2016, 10, 12), Decimal('0.0200000000')),\n",
       " (datetime.date(2016, 10, 13), Decimal('0E-10')),\n",
       " (datetime.date(2016, 10, 13), Decimal('0E-10')),\n",
       " (datetime.date(2016, 10, 13), Decimal('0.0200000000')),\n",
       " (datetime.date(2016, 10, 13), Decimal('0E-10')),\n",
       " (datetime.date(2016, 10, 13), Decimal('0E-10')),\n",
       " (datetime.date(2016, 10, 13), Decimal('0E-10')),\n",
       " (datetime.date(2016, 10, 13), Decimal('0.0600000000')),\n",
       " (datetime.date(2016, 10, 14), Decimal('0E-10')),\n",
       " (datetime.date(2016, 10, 14), Decimal('0E-10')),\n",
       " (datetime.date(2016, 10, 14), Decimal('0E-10')),\n",
       " (datetime.date(2016, 10, 14), Decimal('0E-10')),\n",
       " (datetime.date(2016, 10, 14), Decimal('0E-10')),\n",
       " (datetime.date(2016, 10, 14), Decimal('0E-10')),\n",
       " (datetime.date(2016, 10, 15), Decimal('0E-10')),\n",
       " (datetime.date(2016, 10, 15), Decimal('0E-10')),\n",
       " (datetime.date(2016, 10, 15), Decimal('0.0200000000')),\n",
       " (datetime.date(2016, 10, 15), Decimal('0E-10')),\n",
       " (datetime.date(2016, 10, 15), Decimal('0.0400000000')),\n",
       " (datetime.date(2016, 10, 15), Decimal('0.3300000000')),\n",
       " (datetime.date(2016, 10, 16), Decimal('0E-10')),\n",
       " (datetime.date(2016, 10, 16), Decimal('0E-10')),\n",
       " (datetime.date(2016, 10, 16), Decimal('0E-10')),\n",
       " (datetime.date(2016, 10, 16), Decimal('0E-10')),\n",
       " (datetime.date(2016, 10, 16), Decimal('0E-10')),\n",
       " (datetime.date(2016, 10, 17), Decimal('0.0100000000')),\n",
       " (datetime.date(2016, 10, 17), Decimal('0.0300000000')),\n",
       " (datetime.date(2016, 10, 17), Decimal('0E-10')),\n",
       " (datetime.date(2016, 10, 17), Decimal('0E-10')),\n",
       " (datetime.date(2016, 10, 17), Decimal('0.1200000000')),\n",
       " (datetime.date(2016, 10, 17), Decimal('0.0100000000')),\n",
       " (datetime.date(2016, 10, 17), Decimal('0.3800000000')),\n",
       " (datetime.date(2016, 10, 18), Decimal('0E-10')),\n",
       " (datetime.date(2016, 10, 18), Decimal('0.0500000000')),\n",
       " (datetime.date(2016, 10, 18), Decimal('0.0300000000')),\n",
       " (datetime.date(2016, 10, 18), Decimal('0E-10')),\n",
       " (datetime.date(2016, 10, 18), Decimal('0.0200000000')),\n",
       " (datetime.date(2016, 10, 18), Decimal('0.0200000000')),\n",
       " (datetime.date(2016, 10, 18), Decimal('0.4800000000')),\n",
       " (datetime.date(2016, 10, 19), Decimal('0E-10')),\n",
       " (datetime.date(2016, 10, 19), Decimal('0.0600000000')),\n",
       " (datetime.date(2016, 10, 19), Decimal('0E-10')),\n",
       " (datetime.date(2016, 10, 19), Decimal('0E-10')),\n",
       " (datetime.date(2016, 10, 19), Decimal('0E-10')),\n",
       " (datetime.date(2016, 10, 19), Decimal('0.1100000000')),\n",
       " (datetime.date(2016, 10, 19), Decimal('0E-10')),\n",
       " (datetime.date(2016, 10, 20), Decimal('0E-10')),\n",
       " (datetime.date(2016, 10, 20), Decimal('0E-10')),\n",
       " (datetime.date(2016, 10, 20), Decimal('0.0100000000')),\n",
       " (datetime.date(2016, 10, 20), Decimal('0E-10')),\n",
       " (datetime.date(2016, 10, 20), Decimal('0E-10')),\n",
       " (datetime.date(2016, 10, 20), Decimal('1.0000000000')),\n",
       " (datetime.date(2016, 10, 21), Decimal('0.0500000000')),\n",
       " (datetime.date(2016, 10, 21), Decimal('0.1500000000')),\n",
       " (datetime.date(2016, 10, 21), Decimal('0.0300000000')),\n",
       " (datetime.date(2016, 10, 21), Decimal('0E-10')),\n",
       " (datetime.date(2016, 10, 21), Decimal('0E-10')),\n",
       " (datetime.date(2016, 10, 21), Decimal('0E-10')),\n",
       " (datetime.date(2016, 10, 21), Decimal('0.0900000000')),\n",
       " (datetime.date(2016, 10, 22), Decimal('0.1500000000')),\n",
       " (datetime.date(2016, 10, 22), Decimal('0.1000000000')),\n",
       " (datetime.date(2016, 10, 22), Decimal('0E-10')),\n",
       " (datetime.date(2016, 10, 22), Decimal('0.1500000000')),\n",
       " (datetime.date(2016, 10, 22), Decimal('1.3700000000')),\n",
       " (datetime.date(2016, 10, 23), Decimal('0.0100000000')),\n",
       " (datetime.date(2016, 10, 23), Decimal('0.0100000000')),\n",
       " (datetime.date(2016, 10, 23), Decimal('0E-10')),\n",
       " (datetime.date(2016, 10, 23), Decimal('0E-10')),\n",
       " (datetime.date(2016, 10, 23), Decimal('0.0200000000')),\n",
       " (datetime.date(2016, 10, 23), Decimal('0.2400000000')),\n",
       " (datetime.date(2016, 10, 24), Decimal('0E-10')),\n",
       " (datetime.date(2016, 10, 24), Decimal('0E-10')),\n",
       " (datetime.date(2016, 10, 24), Decimal('0.0100000000')),\n",
       " (datetime.date(2016, 10, 24), Decimal('0E-10')),\n",
       " (datetime.date(2016, 10, 24), Decimal('0E-10')),\n",
       " (datetime.date(2016, 10, 24), Decimal('0.0800000000')),\n",
       " (datetime.date(2016, 10, 24), Decimal('0.7000000000')),\n",
       " (datetime.date(2016, 10, 25), Decimal('0.0300000000')),\n",
       " (datetime.date(2016, 10, 25), Decimal('0.0400000000')),\n",
       " (datetime.date(2016, 10, 25), Decimal('0E-10')),\n",
       " (datetime.date(2016, 10, 25), Decimal('0.4000000000')),\n",
       " (datetime.date(2016, 10, 25), Decimal('0.1200000000')),\n",
       " (datetime.date(2016, 10, 25), Decimal('0.1100000000')),\n",
       " (datetime.date(2016, 10, 25), Decimal('0.4000000000')),\n",
       " (datetime.date(2016, 10, 26), Decimal('0E-10')),\n",
       " (datetime.date(2016, 10, 26), Decimal('0.0600000000')),\n",
       " (datetime.date(2016, 10, 26), Decimal('0.2000000000')),\n",
       " (datetime.date(2016, 10, 26), Decimal('0.0200000000')),\n",
       " (datetime.date(2016, 10, 26), Decimal('0.0100000000')),\n",
       " (datetime.date(2016, 10, 26), Decimal('0E-10')),\n",
       " (datetime.date(2016, 10, 27), Decimal('0E-10')),\n",
       " (datetime.date(2016, 10, 27), Decimal('0.1100000000')),\n",
       " (datetime.date(2016, 10, 27), Decimal('0.2000000000')),\n",
       " (datetime.date(2016, 10, 27), Decimal('0E-10')),\n",
       " (datetime.date(2016, 10, 27), Decimal('0.0800000000')),\n",
       " (datetime.date(2016, 10, 27), Decimal('0.2200000000')),\n",
       " (datetime.date(2016, 10, 27), Decimal('1.2500000000')),\n",
       " (datetime.date(2016, 10, 28), Decimal('0E-10')),\n",
       " (datetime.date(2016, 10, 28), Decimal('0.0200000000')),\n",
       " (datetime.date(2016, 10, 28), Decimal('0.0700000000')),\n",
       " (datetime.date(2016, 10, 28), Decimal('0E-10')),\n",
       " (datetime.date(2016, 10, 28), Decimal('0.0600000000')),\n",
       " (datetime.date(2016, 10, 28), Decimal('0.0500000000')),\n",
       " (datetime.date(2016, 10, 28), Decimal('0.3700000000')),\n",
       " (datetime.date(2016, 10, 29), Decimal('0E-10')),\n",
       " (datetime.date(2016, 10, 29), Decimal('0.0200000000')),\n",
       " (datetime.date(2016, 10, 29), Decimal('0.2600000000')),\n",
       " (datetime.date(2016, 10, 29), Decimal('0.0100000000')),\n",
       " (datetime.date(2016, 10, 29), Decimal('0.1000000000')),\n",
       " (datetime.date(2016, 10, 29), Decimal('0.2500000000')),\n",
       " (datetime.date(2016, 10, 30), Decimal('0.2400000000')),\n",
       " (datetime.date(2016, 10, 30), Decimal('0.1000000000')),\n",
       " (datetime.date(2016, 10, 30), Decimal('0.1400000000')),\n",
       " (datetime.date(2016, 10, 30), Decimal('0E-10')),\n",
       " (datetime.date(2016, 10, 30), Decimal('0.1600000000')),\n",
       " (datetime.date(2016, 10, 30), Decimal('0.9500000000')),\n",
       " (datetime.date(2016, 10, 31), Decimal('0.0300000000')),\n",
       " (datetime.date(2016, 10, 31), Decimal('0.0300000000')),\n",
       " (datetime.date(2016, 10, 31), Decimal('0E-10')),\n",
       " (datetime.date(2016, 10, 31), Decimal('0E-10')),\n",
       " (datetime.date(2016, 10, 31), Decimal('0.1300000000')),\n",
       " (datetime.date(2016, 10, 31), Decimal('0.0700000000')),\n",
       " (datetime.date(2016, 10, 31), Decimal('1.3500000000')),\n",
       " (datetime.date(2016, 11, 1), Decimal('0E-10')),\n",
       " (datetime.date(2016, 11, 1), Decimal('0.0100000000')),\n",
       " (datetime.date(2016, 11, 1), Decimal('0E-10')),\n",
       " (datetime.date(2016, 11, 1), Decimal('0.0100000000')),\n",
       " (datetime.date(2016, 11, 1), Decimal('0.1000000000')),\n",
       " (datetime.date(2016, 11, 1), Decimal('0.0900000000')),\n",
       " (datetime.date(2016, 11, 2), Decimal('0E-10')),\n",
       " (datetime.date(2016, 11, 2), Decimal('0E-10')),\n",
       " (datetime.date(2016, 11, 2), Decimal('0E-10')),\n",
       " (datetime.date(2016, 11, 2), Decimal('0E-10')),\n",
       " (datetime.date(2016, 11, 2), Decimal('0E-10')),\n",
       " (datetime.date(2016, 11, 2), Decimal('0.0400000000')),\n",
       " (datetime.date(2016, 11, 3), Decimal('0E-10')),\n",
       " (datetime.date(2016, 11, 3), Decimal('0E-10')),\n",
       " (datetime.date(2016, 11, 3), Decimal('0E-10')),\n",
       " (datetime.date(2016, 11, 3), Decimal('0E-10')),\n",
       " (datetime.date(2016, 11, 3), Decimal('0E-10')),\n",
       " (datetime.date(2016, 11, 3), Decimal('0.0200000000')),\n",
       " (datetime.date(2016, 11, 4), Decimal('0E-10')),\n",
       " (datetime.date(2016, 11, 4), Decimal('0E-10')),\n",
       " (datetime.date(2016, 11, 4), Decimal('0E-10')),\n",
       " (datetime.date(2016, 11, 4), Decimal('0E-10')),\n",
       " (datetime.date(2016, 11, 4), Decimal('0E-10')),\n",
       " (datetime.date(2016, 11, 4), Decimal('0E-10')),\n",
       " (datetime.date(2016, 11, 4), Decimal('0.0600000000')),\n",
       " (datetime.date(2016, 11, 5), Decimal('0E-10')),\n",
       " (datetime.date(2016, 11, 5), Decimal('0.0200000000')),\n",
       " (datetime.date(2016, 11, 5), Decimal('0E-10')),\n",
       " (datetime.date(2016, 11, 5), Decimal('0.0200000000')),\n",
       " (datetime.date(2016, 11, 5), Decimal('0.0300000000')),\n",
       " (datetime.date(2016, 11, 5), Decimal('0.3800000000')),\n",
       " (datetime.date(2016, 11, 6), Decimal('0E-10')),\n",
       " (datetime.date(2016, 11, 6), Decimal('0.0200000000')),\n",
       " (datetime.date(2016, 11, 6), Decimal('0E-10')),\n",
       " (datetime.date(2016, 11, 6), Decimal('0E-10')),\n",
       " (datetime.date(2016, 11, 6), Decimal('0.0100000000')),\n",
       " (datetime.date(2016, 11, 6), Decimal('0.0500000000')),\n",
       " (datetime.date(2016, 11, 7), Decimal('0E-10')),\n",
       " (datetime.date(2016, 11, 7), Decimal('0E-10')),\n",
       " (datetime.date(2016, 11, 7), Decimal('0.1300000000')),\n",
       " (datetime.date(2016, 11, 7), Decimal('0E-10')),\n",
       " (datetime.date(2016, 11, 7), Decimal('0E-10')),\n",
       " (datetime.date(2016, 11, 7), Decimal('0E-10')),\n",
       " (datetime.date(2016, 11, 7), Decimal('0.0500000000')),\n",
       " (datetime.date(2016, 11, 8), Decimal('0.0700000000')),\n",
       " (datetime.date(2016, 11, 8), Decimal('0.1400000000')),\n",
       " (datetime.date(2016, 11, 8), Decimal('0.0200000000')),\n",
       " (datetime.date(2016, 11, 8), Decimal('0.1500000000')),\n",
       " (datetime.date(2016, 11, 8), Decimal('0.2100000000')),\n",
       " (datetime.date(2016, 11, 8), Decimal('0.5300000000')),\n",
       " (datetime.date(2016, 11, 9), Decimal('0E-10')),\n",
       " (datetime.date(2016, 11, 9), Decimal('0.0800000000')),\n",
       " (datetime.date(2016, 11, 9), Decimal('0.1700000000')),\n",
       " (datetime.date(2016, 11, 9), Decimal('0E-10')),\n",
       " (datetime.date(2016, 11, 9), Decimal('0E-10')),\n",
       " (datetime.date(2016, 11, 9), Decimal('0.1100000000')),\n",
       " (datetime.date(2016, 11, 9), Decimal('0.0400000000')),\n",
       " (datetime.date(2016, 11, 10), Decimal('0E-10')),\n",
       " (datetime.date(2016, 11, 10), Decimal('0E-10')),\n",
       " (datetime.date(2016, 11, 10), Decimal('0E-10')),\n",
       " (datetime.date(2016, 11, 10), Decimal('0E-10')),\n",
       " (datetime.date(2016, 11, 10), Decimal('0E-10')),\n",
       " (datetime.date(2016, 11, 10), Decimal('0.0100000000')),\n",
       " (datetime.date(2016, 11, 11), Decimal('0E-10')),\n",
       " (datetime.date(2016, 11, 11), Decimal('0E-10')),\n",
       " (datetime.date(2016, 11, 11), Decimal('0E-10')),\n",
       " (datetime.date(2016, 11, 11), Decimal('0E-10')),\n",
       " (datetime.date(2016, 11, 11), Decimal('0E-10')),\n",
       " (datetime.date(2016, 11, 11), Decimal('0E-10')),\n",
       " (datetime.date(2016, 11, 12), Decimal('0E-10')),\n",
       " (datetime.date(2016, 11, 12), Decimal('0E-10')),\n",
       " (datetime.date(2016, 11, 12), Decimal('0E-10')),\n",
       " (datetime.date(2016, 11, 12), Decimal('0E-10')),\n",
       " (datetime.date(2016, 11, 12), Decimal('0E-10')),\n",
       " (datetime.date(2016, 11, 12), Decimal('0E-10')),\n",
       " (datetime.date(2016, 11, 13), Decimal('0E-10')),\n",
       " (datetime.date(2016, 11, 13), Decimal('0E-10')),\n",
       " (datetime.date(2016, 11, 13), Decimal('0E-10')),\n",
       " (datetime.date(2016, 11, 13), Decimal('0E-10')),\n",
       " (datetime.date(2016, 11, 13), Decimal('0E-10')),\n",
       " (datetime.date(2016, 11, 13), Decimal('0E-10')),\n",
       " (datetime.date(2016, 11, 14), Decimal('0E-10')),\n",
       " (datetime.date(2016, 11, 14), Decimal('0.0600000000')),\n",
       " (datetime.date(2016, 11, 14), Decimal('0.0500000000')),\n",
       " (datetime.date(2016, 11, 14), Decimal('0.0200000000')),\n",
       " (datetime.date(2016, 11, 14), Decimal('0E-10')),\n",
       " (datetime.date(2016, 11, 14), Decimal('0E-10')),\n",
       " (datetime.date(2016, 11, 14), Decimal('0.0200000000')),\n",
       " (datetime.date(2016, 11, 15), Decimal('0E-10')),\n",
       " (datetime.date(2016, 11, 15), Decimal('0E-10')),\n",
       " (datetime.date(2016, 11, 15), Decimal('0E-10')),\n",
       " (datetime.date(2016, 11, 15), Decimal('0E-10')),\n",
       " (datetime.date(2016, 11, 15), Decimal('0E-10')),\n",
       " (datetime.date(2016, 11, 15), Decimal('0E-10')),\n",
       " (datetime.date(2016, 11, 15), Decimal('0.0500000000')),\n",
       " (datetime.date(2016, 11, 16), Decimal('0E-10')),\n",
       " (datetime.date(2016, 11, 16), Decimal('0.1400000000')),\n",
       " (datetime.date(2016, 11, 16), Decimal('0.1800000000')),\n",
       " (datetime.date(2016, 11, 16), Decimal('0E-10')),\n",
       " (datetime.date(2016, 11, 16), Decimal('0.0700000000')),\n",
       " (datetime.date(2016, 11, 16), Decimal('0.2400000000')),\n",
       " (datetime.date(2016, 11, 16), Decimal('0.9100000000')),\n",
       " (datetime.date(2016, 11, 17), Decimal('0E-10')),\n",
       " (datetime.date(2016, 11, 17), Decimal('0.0300000000')),\n",
       " (datetime.date(2016, 11, 17), Decimal('0E-10')),\n",
       " (datetime.date(2016, 11, 17), Decimal('0E-10')),\n",
       " (datetime.date(2016, 11, 17), Decimal('0E-10')),\n",
       " (datetime.date(2016, 11, 17), Decimal('0.0100000000')),\n",
       " (datetime.date(2016, 11, 17), Decimal('0.0200000000')),\n",
       " (datetime.date(2016, 11, 18), Decimal('0E-10')),\n",
       " (datetime.date(2016, 11, 18), Decimal('0.0100000000')),\n",
       " (datetime.date(2016, 11, 18), Decimal('0E-10')),\n",
       " (datetime.date(2016, 11, 18), Decimal('0.0200000000')),\n",
       " (datetime.date(2016, 11, 18), Decimal('0E-10')),\n",
       " (datetime.date(2016, 11, 19), Decimal('0.0300000000')),\n",
       " (datetime.date(2016, 11, 19), Decimal('0.1100000000')),\n",
       " (datetime.date(2016, 11, 19), Decimal('0.1300000000')),\n",
       " (datetime.date(2016, 11, 19), Decimal('0.1100000000')),\n",
       " (datetime.date(2016, 11, 20), Decimal('0.0500000000')),\n",
       " (datetime.date(2016, 11, 20), Decimal('0.1100000000')),\n",
       " (datetime.date(2016, 11, 20), Decimal('0.4000000000')),\n",
       " (datetime.date(2016, 11, 20), Decimal('0.3900000000')),\n",
       " (datetime.date(2016, 11, 20), Decimal('0E-10')),\n",
       " (datetime.date(2016, 11, 21), Decimal('0.0100000000')),\n",
       " (datetime.date(2016, 11, 21), Decimal('0.0200000000')),\n",
       " (datetime.date(2016, 11, 21), Decimal('0E-10')),\n",
       " (datetime.date(2016, 11, 21), Decimal('0.0700000000')),\n",
       " (datetime.date(2016, 11, 21), Decimal('0.1100000000')),\n",
       " (datetime.date(2016, 11, 21), Decimal('2.8700000000')),\n",
       " (datetime.date(2016, 11, 22), Decimal('0.1300000000')),\n",
       " (datetime.date(2016, 11, 22), Decimal('0.4100000000')),\n",
       " (datetime.date(2016, 11, 22), Decimal('0E-10')),\n",
       " (datetime.date(2016, 11, 22), Decimal('0E-10')),\n",
       " (datetime.date(2016, 11, 22), Decimal('0.3100000000')),\n",
       " (datetime.date(2016, 11, 22), Decimal('2.0500000000')),\n",
       " (datetime.date(2016, 11, 22), Decimal('2.1100000000')),\n",
       " (datetime.date(2016, 11, 23), Decimal('0.1400000000')),\n",
       " (datetime.date(2016, 11, 23), Decimal('0.0300000000')),\n",
       " (datetime.date(2016, 11, 23), Decimal('0E-10')),\n",
       " (datetime.date(2016, 11, 23), Decimal('0.0300000000')),\n",
       " (datetime.date(2016, 11, 23), Decimal('0.2500000000')),\n",
       " (datetime.date(2016, 11, 23), Decimal('0.2200000000')),\n",
       " (datetime.date(2016, 11, 24), Decimal('0.0500000000')),\n",
       " (datetime.date(2016, 11, 24), Decimal('0.2000000000')),\n",
       " (datetime.date(2016, 11, 24), Decimal('0.2100000000')),\n",
       " (datetime.date(2016, 11, 24), Decimal('0.3000000000')),\n",
       " (datetime.date(2016, 11, 24), Decimal('0.7200000000')),\n",
       " (datetime.date(2016, 11, 25), Decimal('0.0500000000')),\n",
       " (datetime.date(2016, 11, 25), Decimal('0.0500000000')),\n",
       " (datetime.date(2016, 11, 25), Decimal('0E-10')),\n",
       " (datetime.date(2016, 11, 25), Decimal('0.1100000000')),\n",
       " (datetime.date(2016, 11, 25), Decimal('0.0800000000')),\n",
       " (datetime.date(2016, 11, 25), Decimal('1.0300000000')),\n",
       " (datetime.date(2016, 11, 26), Decimal('0.0500000000')),\n",
       " (datetime.date(2016, 11, 26), Decimal('0.0500000000')),\n",
       " (datetime.date(2016, 11, 26), Decimal('0.0200000000')),\n",
       " (datetime.date(2016, 11, 26), Decimal('0.0300000000')),\n",
       " (datetime.date(2016, 11, 26), Decimal('0.0600000000')),\n",
       " (datetime.date(2016, 11, 26), Decimal('0.3000000000')),\n",
       " (datetime.date(2016, 11, 27), Decimal('0E-10')),\n",
       " (datetime.date(2016, 11, 27), Decimal('0.0600000000')),\n",
       " (datetime.date(2016, 11, 27), Decimal('0.0300000000')),\n",
       " (datetime.date(2016, 11, 27), Decimal('0E-10')),\n",
       " (datetime.date(2016, 11, 27), Decimal('0.1700000000')),\n",
       " (datetime.date(2016, 11, 27), Decimal('0.2900000000')),\n",
       " (datetime.date(2016, 11, 28), Decimal('0.0100000000')),\n",
       " (datetime.date(2016, 11, 28), Decimal('0.0200000000')),\n",
       " (datetime.date(2016, 11, 28), Decimal('0E-10')),\n",
       " (datetime.date(2016, 11, 28), Decimal('0E-10')),\n",
       " (datetime.date(2016, 11, 28), Decimal('0E-10')),\n",
       " (datetime.date(2016, 11, 28), Decimal('0E-10')),\n",
       " (datetime.date(2016, 11, 28), Decimal('0.6900000000')),\n",
       " (datetime.date(2016, 11, 29), Decimal('0E-10')),\n",
       " (datetime.date(2016, 11, 29), Decimal('0.0400000000')),\n",
       " (datetime.date(2016, 11, 29), Decimal('0.0400000000')),\n",
       " (datetime.date(2016, 11, 29), Decimal('0E-10')),\n",
       " (datetime.date(2016, 11, 29), Decimal('0.0600000000')),\n",
       " (datetime.date(2016, 11, 29), Decimal('0.0900000000')),\n",
       " (datetime.date(2016, 11, 29), Decimal('0.2000000000')),\n",
       " (datetime.date(2016, 11, 30), Decimal('0.1400000000')),\n",
       " (datetime.date(2016, 11, 30), Decimal('0.0500000000')),\n",
       " (datetime.date(2016, 11, 30), Decimal('0.0300000000')),\n",
       " (datetime.date(2016, 11, 30), Decimal('0E-10')),\n",
       " (datetime.date(2016, 11, 30), Decimal('0E-10')),\n",
       " (datetime.date(2016, 11, 30), Decimal('0.0500000000')),\n",
       " (datetime.date(2016, 11, 30), Decimal('0.7900000000')),\n",
       " (datetime.date(2016, 12, 1), Decimal('0.1200000000')),\n",
       " (datetime.date(2016, 12, 1), Decimal('0.3300000000')),\n",
       " (datetime.date(2016, 12, 1), Decimal('0.0700000000')),\n",
       " (datetime.date(2016, 12, 1), Decimal('0E-10')),\n",
       " (datetime.date(2016, 12, 1), Decimal('0.1600000000')),\n",
       " (datetime.date(2016, 12, 1), Decimal('0.3700000000')),\n",
       " (datetime.date(2016, 12, 1), Decimal('0.7200000000')),\n",
       " (datetime.date(2016, 12, 2), Decimal('0.0300000000')),\n",
       " (datetime.date(2016, 12, 2), Decimal('0.3000000000')),\n",
       " (datetime.date(2016, 12, 2), Decimal('0.4000000000')),\n",
       " (datetime.date(2016, 12, 2), Decimal('0E-10')),\n",
       " (datetime.date(2016, 12, 2), Decimal('0.0100000000')),\n",
       " (datetime.date(2016, 12, 2), Decimal('0.3500000000')),\n",
       " (datetime.date(2016, 12, 2), Decimal('1.2700000000')),\n",
       " (datetime.date(2016, 12, 3), Decimal('0E-10')),\n",
       " (datetime.date(2016, 12, 3), Decimal('0.0400000000')),\n",
       " (datetime.date(2016, 12, 3), Decimal('0.2600000000')),\n",
       " (datetime.date(2016, 12, 3), Decimal('0.0200000000')),\n",
       " (datetime.date(2016, 12, 3), Decimal('0.7700000000')),\n",
       " (datetime.date(2016, 12, 3), Decimal('1.6200000000')),\n",
       " (datetime.date(2016, 12, 4), Decimal('0.0300000000')),\n",
       " (datetime.date(2016, 12, 4), Decimal('0.1000000000')),\n",
       " (datetime.date(2016, 12, 4), Decimal('0E-10')),\n",
       " (datetime.date(2016, 12, 4), Decimal('0.3200000000')),\n",
       " (datetime.date(2016, 12, 4), Decimal('0.0400000000')),\n",
       " (datetime.date(2016, 12, 4), Decimal('0.3100000000')),\n",
       " (datetime.date(2016, 12, 5), Decimal('0.4300000000')),\n",
       " (datetime.date(2016, 12, 5), Decimal('0.3400000000')),\n",
       " (datetime.date(2016, 12, 5), Decimal('0.2000000000')),\n",
       " (datetime.date(2016, 12, 5), Decimal('0E-10')),\n",
       " (datetime.date(2016, 12, 5), Decimal('0.4500000000')),\n",
       " (datetime.date(2016, 12, 5), Decimal('0.2200000000')),\n",
       " (datetime.date(2016, 12, 5), Decimal('1.6000000000')),\n",
       " (datetime.date(2016, 12, 6), Decimal('0.0200000000')),\n",
       " (datetime.date(2016, 12, 6), Decimal('0.0200000000')),\n",
       " (datetime.date(2016, 12, 6), Decimal('0E-10')),\n",
       " (datetime.date(2016, 12, 6), Decimal('0E-10')),\n",
       " (datetime.date(2016, 12, 6), Decimal('0E-10')),\n",
       " (datetime.date(2016, 12, 6), Decimal('0E-10')),\n",
       " (datetime.date(2016, 12, 7), Decimal('0E-10')),\n",
       " (datetime.date(2016, 12, 7), Decimal('0.1700000000')),\n",
       " (datetime.date(2016, 12, 7), Decimal('0E-10')),\n",
       " (datetime.date(2016, 12, 7), Decimal('0E-10')),\n",
       " (datetime.date(2016, 12, 7), Decimal('0.0700000000')),\n",
       " (datetime.date(2016, 12, 7), Decimal('0.1200000000')),\n",
       " (datetime.date(2016, 12, 7), Decimal('0.0200000000')),\n",
       " (datetime.date(2016, 12, 8), Decimal('0.0300000000')),\n",
       " (datetime.date(2016, 12, 8), Decimal('0.0300000000')),\n",
       " (datetime.date(2016, 12, 8), Decimal('0.0200000000')),\n",
       " (datetime.date(2016, 12, 8), Decimal('0.2700000000')),\n",
       " (datetime.date(2016, 12, 8), Decimal('0.0100000000')),\n",
       " (datetime.date(2016, 12, 8), Decimal('0.0700000000')),\n",
       " (datetime.date(2016, 12, 8), Decimal('0.0300000000')),\n",
       " (datetime.date(2016, 12, 9), Decimal('0.5200000000')),\n",
       " (datetime.date(2016, 12, 9), Decimal('0.3400000000')),\n",
       " (datetime.date(2016, 12, 9), Decimal('0.2600000000')),\n",
       " (datetime.date(2016, 12, 9), Decimal('0E-10')),\n",
       " (datetime.date(2016, 12, 9), Decimal('0.3100000000')),\n",
       " (datetime.date(2016, 12, 9), Decimal('0.4200000000')),\n",
       " (datetime.date(2016, 12, 10), Decimal('0.0500000000')),\n",
       " (datetime.date(2016, 12, 10), Decimal('0.0200000000')),\n",
       " (datetime.date(2016, 12, 10), Decimal('0E-10')),\n",
       " (datetime.date(2016, 12, 10), Decimal('0E-10')),\n",
       " (datetime.date(2016, 12, 10), Decimal('0.0200000000')),\n",
       " (datetime.date(2016, 12, 10), Decimal('0.0400000000')),\n",
       " (datetime.date(2016, 12, 11), Decimal('0.0400000000')),\n",
       " (datetime.date(2016, 12, 11), Decimal('0.0200000000')),\n",
       " (datetime.date(2016, 12, 11), Decimal('0.0600000000')),\n",
       " (datetime.date(2016, 12, 11), Decimal('0E-10')),\n",
       " (datetime.date(2016, 12, 11), Decimal('0.1300000000')),\n",
       " (datetime.date(2016, 12, 12), Decimal('0.0100000000')),\n",
       " (datetime.date(2016, 12, 12), Decimal('0.0100000000')),\n",
       " (datetime.date(2016, 12, 12), Decimal('0E-10')),\n",
       " (datetime.date(2016, 12, 12), Decimal('0.0200000000')),\n",
       " (datetime.date(2016, 12, 12), Decimal('0E-10')),\n",
       " (datetime.date(2016, 12, 12), Decimal('0E-10')),\n",
       " (datetime.date(2016, 12, 12), Decimal('0.0100000000')),\n",
       " (datetime.date(2016, 12, 13), Decimal('0.0500000000')),\n",
       " (datetime.date(2016, 12, 13), Decimal('0.1000000000')),\n",
       " (datetime.date(2016, 12, 13), Decimal('0.3400000000')),\n",
       " (datetime.date(2016, 12, 13), Decimal('0E-10')),\n",
       " (datetime.date(2016, 12, 13), Decimal('0.1500000000')),\n",
       " (datetime.date(2016, 12, 13), Decimal('0.0400000000')),\n",
       " (datetime.date(2016, 12, 13), Decimal('0.0900000000')),\n",
       " (datetime.date(2016, 12, 14), Decimal('0.0300000000')),\n",
       " (datetime.date(2016, 12, 14), Decimal('0.0500000000')),\n",
       " (datetime.date(2016, 12, 14), Decimal('0.1200000000')),\n",
       " (datetime.date(2016, 12, 14), Decimal('0E-10')),\n",
       " (datetime.date(2016, 12, 14), Decimal('0.0500000000')),\n",
       " (datetime.date(2016, 12, 14), Decimal('0.9200000000')),\n",
       " (datetime.date(2016, 12, 14), Decimal('0.3300000000')),\n",
       " (datetime.date(2016, 12, 15), Decimal('0E-10')),\n",
       " (datetime.date(2016, 12, 15), Decimal('0.0200000000')),\n",
       " (datetime.date(2016, 12, 15), Decimal('0.0700000000')),\n",
       " (datetime.date(2016, 12, 15), Decimal('0E-10')),\n",
       " (datetime.date(2016, 12, 15), Decimal('0E-10')),\n",
       " (datetime.date(2016, 12, 15), Decimal('0.1400000000')),\n",
       " (datetime.date(2016, 12, 15), Decimal('0.0300000000')),\n",
       " (datetime.date(2016, 12, 16), Decimal('0E-10')),\n",
       " (datetime.date(2016, 12, 16), Decimal('0.0100000000')),\n",
       " (datetime.date(2016, 12, 16), Decimal('0E-10')),\n",
       " (datetime.date(2016, 12, 16), Decimal('0E-10')),\n",
       " (datetime.date(2016, 12, 16), Decimal('0E-10')),\n",
       " (datetime.date(2016, 12, 16), Decimal('0.0300000000')),\n",
       " (datetime.date(2016, 12, 16), Decimal('0E-10')),\n",
       " (datetime.date(2016, 12, 17), Decimal('0.0100000000')),\n",
       " (datetime.date(2016, 12, 17), Decimal('0.1100000000')),\n",
       " (datetime.date(2016, 12, 17), Decimal('0E-10')),\n",
       " (datetime.date(2016, 12, 17), Decimal('0.1600000000')),\n",
       " (datetime.date(2016, 12, 17), Decimal('0.0700000000')),\n",
       " (datetime.date(2016, 12, 18), Decimal('0.1300000000')),\n",
       " (datetime.date(2016, 12, 18), Decimal('0.2900000000')),\n",
       " (datetime.date(2016, 12, 18), Decimal('0.0400000000')),\n",
       " (datetime.date(2016, 12, 18), Decimal('0.2700000000')),\n",
       " (datetime.date(2016, 12, 18), Decimal('0.1600000000')),\n",
       " (datetime.date(2016, 12, 18), Decimal('0E-10')),\n",
       " (datetime.date(2016, 12, 19), Decimal('0.0100000000')),\n",
       " (datetime.date(2016, 12, 19), Decimal('0.2100000000')),\n",
       " (datetime.date(2016, 12, 19), Decimal('0E-10')),\n",
       " (datetime.date(2016, 12, 19), Decimal('0E-10')),\n",
       " (datetime.date(2016, 12, 19), Decimal('0.0200000000')),\n",
       " (datetime.date(2016, 12, 19), Decimal('0.0300000000')),\n",
       " (datetime.date(2016, 12, 19), Decimal('0.1500000000')),\n",
       " (datetime.date(2016, 12, 20), Decimal('0E-10')),\n",
       " (datetime.date(2016, 12, 20), Decimal('0.0200000000')),\n",
       " (datetime.date(2016, 12, 20), Decimal('0E-10')),\n",
       " (datetime.date(2016, 12, 20), Decimal('0E-10')),\n",
       " (datetime.date(2016, 12, 20), Decimal('0.0100000000')),\n",
       " (datetime.date(2016, 12, 20), Decimal('0E-10')),\n",
       " (datetime.date(2016, 12, 20), Decimal('0E-10')),\n",
       " (datetime.date(2016, 12, 21), Decimal('0E-10')),\n",
       " (datetime.date(2016, 12, 21), Decimal('0.0300000000')),\n",
       " (datetime.date(2016, 12, 21), Decimal('0.0900000000')),\n",
       " (datetime.date(2016, 12, 21), Decimal('0.0600000000')),\n",
       " (datetime.date(2016, 12, 21), Decimal('0.0600000000')),\n",
       " (datetime.date(2016, 12, 21), Decimal('0.1100000000')),\n",
       " (datetime.date(2016, 12, 21), Decimal('0.5500000000')),\n",
       " (datetime.date(2016, 12, 22), Decimal('0.0100000000')),\n",
       " (datetime.date(2016, 12, 22), Decimal('0.1700000000')),\n",
       " (datetime.date(2016, 12, 22), Decimal('0.0500000000')),\n",
       " (datetime.date(2016, 12, 22), Decimal('0E-10')),\n",
       " (datetime.date(2016, 12, 22), Decimal('0.1400000000')),\n",
       " (datetime.date(2016, 12, 22), Decimal('0.8600000000')),\n",
       " (datetime.date(2016, 12, 22), Decimal('1.2400000000')),\n",
       " (datetime.date(2016, 12, 23), Decimal('0.0100000000')),\n",
       " (datetime.date(2016, 12, 23), Decimal('0.1000000000')),\n",
       " (datetime.date(2016, 12, 23), Decimal('0.0300000000')),\n",
       " (datetime.date(2016, 12, 23), Decimal('0E-10')),\n",
       " (datetime.date(2016, 12, 23), Decimal('0.0200000000')),\n",
       " (datetime.date(2016, 12, 23), Decimal('0.2400000000')),\n",
       " (datetime.date(2016, 12, 23), Decimal('0.8300000000')),\n",
       " (datetime.date(2016, 12, 24), Decimal('0.0100000000')),\n",
       " (datetime.date(2016, 12, 24), Decimal('0.1400000000')),\n",
       " (datetime.date(2016, 12, 24), Decimal('0.1300000000')),\n",
       " (datetime.date(2016, 12, 24), Decimal('0.0600000000')),\n",
       " (datetime.date(2016, 12, 24), Decimal('0.2000000000')),\n",
       " (datetime.date(2016, 12, 24), Decimal('1.0800000000')),\n",
       " (datetime.date(2016, 12, 25), Decimal('0E-10')),\n",
       " (datetime.date(2016, 12, 25), Decimal('0.0300000000')),\n",
       " (datetime.date(2016, 12, 25), Decimal('0E-10')),\n",
       " (datetime.date(2016, 12, 25), Decimal('0.0200000000')),\n",
       " (datetime.date(2016, 12, 25), Decimal('0.3800000000')),\n",
       " (datetime.date(2016, 12, 26), Decimal('0.0200000000')),\n",
       " (datetime.date(2016, 12, 26), Decimal('0.2600000000')),\n",
       " (datetime.date(2016, 12, 26), Decimal('0E-10')),\n",
       " (datetime.date(2016, 12, 26), Decimal('0.0600000000')),\n",
       " (datetime.date(2016, 12, 26), Decimal('0.2200000000')),\n",
       " (datetime.date(2016, 12, 26), Decimal('1.4800000000')),\n",
       " (datetime.date(2016, 12, 27), Decimal('0E-10')),\n",
       " (datetime.date(2016, 12, 27), Decimal('0.0300000000')),\n",
       " (datetime.date(2016, 12, 27), Decimal('0.0200000000')),\n",
       " (datetime.date(2016, 12, 27), Decimal('0E-10')),\n",
       " (datetime.date(2016, 12, 27), Decimal('0.0500000000')),\n",
       " (datetime.date(2016, 12, 27), Decimal('0.1400000000')),\n",
       " (datetime.date(2016, 12, 28), Decimal('0.0200000000')),\n",
       " (datetime.date(2016, 12, 28), Decimal('0.0900000000')),\n",
       " (datetime.date(2016, 12, 28), Decimal('0.0100000000')),\n",
       " (datetime.date(2016, 12, 28), Decimal('0E-10')),\n",
       " (datetime.date(2016, 12, 28), Decimal('0.0600000000')),\n",
       " (datetime.date(2016, 12, 28), Decimal('0.0900000000')),\n",
       " (datetime.date(2016, 12, 28), Decimal('0.1400000000')),\n",
       " (datetime.date(2016, 12, 29), Decimal('0.0400000000')),\n",
       " (datetime.date(2016, 12, 29), Decimal('0.1800000000')),\n",
       " (datetime.date(2016, 12, 29), Decimal('0.5600000000')),\n",
       " (datetime.date(2016, 12, 29), Decimal('0E-10')),\n",
       " (datetime.date(2016, 12, 29), Decimal('0.0500000000')),\n",
       " (datetime.date(2016, 12, 29), Decimal('0.5200000000')),\n",
       " (datetime.date(2016, 12, 29), Decimal('1.0300000000')),\n",
       " (datetime.date(2016, 12, 30), Decimal('0.1200000000')),\n",
       " (datetime.date(2016, 12, 30), Decimal('0.2100000000')),\n",
       " (datetime.date(2016, 12, 30), Decimal('0.2900000000')),\n",
       " (datetime.date(2016, 12, 30), Decimal('0E-10')),\n",
       " (datetime.date(2016, 12, 30), Decimal('0.0700000000')),\n",
       " (datetime.date(2016, 12, 30), Decimal('0.2900000000')),\n",
       " (datetime.date(2016, 12, 30), Decimal('2.3700000000')),\n",
       " (datetime.date(2016, 12, 31), Decimal('0.0100000000')),\n",
       " (datetime.date(2016, 12, 31), Decimal('0.6200000000')),\n",
       " (datetime.date(2016, 12, 31), Decimal('0.3600000000')),\n",
       " (datetime.date(2016, 12, 31), Decimal('0.2500000000')),\n",
       " (datetime.date(2016, 12, 31), Decimal('0.9000000000')),\n",
       " (datetime.date(2017, 1, 1), Decimal('0E-10')),\n",
       " (datetime.date(2017, 1, 1), Decimal('0.2900000000')),\n",
       " (datetime.date(2017, 1, 1), Decimal('0E-10')),\n",
       " (datetime.date(2017, 1, 1), Decimal('0E-10')),\n",
       " (datetime.date(2017, 1, 1), Decimal('0.0300000000')),\n",
       " (datetime.date(2017, 1, 1), Decimal('0.0300000000')),\n",
       " (datetime.date(2017, 1, 2), Decimal('0E-10')),\n",
       " (datetime.date(2017, 1, 2), Decimal('0E-10')),\n",
       " (datetime.date(2017, 1, 2), Decimal('0.0100000000')),\n",
       " (datetime.date(2017, 1, 2), Decimal('0.0100000000')),\n",
       " (datetime.date(2017, 1, 2), Decimal('0E-10')),\n",
       " (datetime.date(2017, 1, 3), Decimal('0E-10')),\n",
       " (datetime.date(2017, 1, 3), Decimal('0E-10')),\n",
       " (datetime.date(2017, 1, 3), Decimal('0E-10')),\n",
       " (datetime.date(2017, 1, 3), Decimal('0E-10')),\n",
       " (datetime.date(2017, 1, 3), Decimal('0E-10')),\n",
       " (datetime.date(2017, 1, 3), Decimal('0E-10')),\n",
       " (datetime.date(2017, 1, 4), Decimal('0E-10')),\n",
       " (datetime.date(2017, 1, 4), Decimal('0E-10')),\n",
       " (datetime.date(2017, 1, 4), Decimal('0E-10')),\n",
       " (datetime.date(2017, 1, 4), Decimal('0.1800000000')),\n",
       " (datetime.date(2017, 1, 4), Decimal('0E-10')),\n",
       " (datetime.date(2017, 1, 4), Decimal('0E-10')),\n",
       " (datetime.date(2017, 1, 5), Decimal('0E-10')),\n",
       " (datetime.date(2017, 1, 5), Decimal('0E-10')),\n",
       " (datetime.date(2017, 1, 5), Decimal('0E-10')),\n",
       " (datetime.date(2017, 1, 5), Decimal('0.4200000000')),\n",
       " (datetime.date(2017, 1, 5), Decimal('0.0600000000')),\n",
       " (datetime.date(2017, 1, 5), Decimal('0.4700000000')),\n",
       " (datetime.date(2017, 1, 6), Decimal('0E-10')),\n",
       " (datetime.date(2017, 1, 6), Decimal('0E-10')),\n",
       " (datetime.date(2017, 1, 6), Decimal('0.5900000000')),\n",
       " (datetime.date(2017, 1, 6), Decimal('0.0100000000')),\n",
       " (datetime.date(2017, 1, 6), Decimal('0.1000000000')),\n",
       " (datetime.date(2017, 1, 6), Decimal('0.1000000000')),\n",
       " (datetime.date(2017, 1, 7), Decimal('0E-10')),\n",
       " (datetime.date(2017, 1, 7), Decimal('0.0600000000')),\n",
       " (datetime.date(2017, 1, 7), Decimal('0E-10')),\n",
       " (datetime.date(2017, 1, 7), Decimal('0E-10')),\n",
       " (datetime.date(2017, 1, 7), Decimal('0E-10')),\n",
       " (datetime.date(2017, 1, 7), Decimal('0E-10')),\n",
       " (datetime.date(2017, 1, 8), Decimal('0E-10')),\n",
       " (datetime.date(2017, 1, 8), Decimal('0E-10')),\n",
       " (datetime.date(2017, 1, 8), Decimal('0.0300000000')),\n",
       " (datetime.date(2017, 1, 8), Decimal('0E-10')),\n",
       " (datetime.date(2017, 1, 8), Decimal('0E-10')),\n",
       " (datetime.date(2017, 1, 8), Decimal('0.0300000000')),\n",
       " (datetime.date(2017, 1, 9), Decimal('0E-10')),\n",
       " (datetime.date(2017, 1, 9), Decimal('0E-10')),\n",
       " (datetime.date(2017, 1, 9), Decimal('0E-10')),\n",
       " (datetime.date(2017, 1, 9), Decimal('0E-10')),\n",
       " (datetime.date(2017, 1, 9), Decimal('0E-10')),\n",
       " (datetime.date(2017, 1, 9), Decimal('0E-10')),\n",
       " (datetime.date(2017, 1, 9), Decimal('0E-10')),\n",
       " (datetime.date(2017, 1, 10), Decimal('0E-10')),\n",
       " (datetime.date(2017, 1, 10), Decimal('0E-10')),\n",
       " (datetime.date(2017, 1, 10), Decimal('0E-10')),\n",
       " (datetime.date(2017, 1, 10), Decimal('0E-10')),\n",
       " (datetime.date(2017, 1, 10), Decimal('0E-10')),\n",
       " (datetime.date(2017, 1, 10), Decimal('0E-10')),\n",
       " (datetime.date(2017, 1, 10), Decimal('0E-10')),\n",
       " (datetime.date(2017, 1, 11), Decimal('0E-10')),\n",
       " (datetime.date(2017, 1, 11), Decimal('0E-10')),\n",
       " (datetime.date(2017, 1, 11), Decimal('0E-10')),\n",
       " (datetime.date(2017, 1, 11), Decimal('0E-10')),\n",
       " (datetime.date(2017, 1, 11), Decimal('0E-10')),\n",
       " (datetime.date(2017, 1, 11), Decimal('0E-10')),\n",
       " (datetime.date(2017, 1, 12), Decimal('0E-10')),\n",
       " (datetime.date(2017, 1, 12), Decimal('0E-10')),\n",
       " (datetime.date(2017, 1, 12), Decimal('0E-10')),\n",
       " (datetime.date(2017, 1, 12), Decimal('0E-10')),\n",
       " (datetime.date(2017, 1, 12), Decimal('0E-10')),\n",
       " (datetime.date(2017, 1, 12), Decimal('0E-10')),\n",
       " (datetime.date(2017, 1, 13), Decimal('0E-10')),\n",
       " (datetime.date(2017, 1, 13), Decimal('0E-10')),\n",
       " (datetime.date(2017, 1, 13), Decimal('0E-10')),\n",
       " (datetime.date(2017, 1, 13), Decimal('0E-10')),\n",
       " (datetime.date(2017, 1, 13), Decimal('0E-10')),\n",
       " (datetime.date(2017, 1, 13), Decimal('0E-10')),\n",
       " (datetime.date(2017, 1, 14), Decimal('0E-10')),\n",
       " (datetime.date(2017, 1, 14), Decimal('0E-10')),\n",
       " (datetime.date(2017, 1, 14), Decimal('0E-10')),\n",
       " (datetime.date(2017, 1, 14), Decimal('0.0100000000')),\n",
       " (datetime.date(2017, 1, 14), Decimal('0E-10')),\n",
       " (datetime.date(2017, 1, 15), Decimal('0E-10')),\n",
       " (datetime.date(2017, 1, 15), Decimal('0E-10')),\n",
       " (datetime.date(2017, 1, 15), Decimal('0E-10')),\n",
       " (datetime.date(2017, 1, 15), Decimal('0E-10')),\n",
       " (datetime.date(2017, 1, 15), Decimal('0.0100000000')),\n",
       " (datetime.date(2017, 1, 16), Decimal('0E-10')),\n",
       " (datetime.date(2017, 1, 16), Decimal('0E-10')),\n",
       " (datetime.date(2017, 1, 16), Decimal('0E-10')),\n",
       " (datetime.date(2017, 1, 16), Decimal('0E-10')),\n",
       " (datetime.date(2017, 1, 16), Decimal('0E-10')),\n",
       " (datetime.date(2017, 1, 16), Decimal('0E-10')),\n",
       " (datetime.date(2017, 1, 17), Decimal('0E-10')),\n",
       " (datetime.date(2017, 1, 17), Decimal('0E-10')),\n",
       " (datetime.date(2017, 1, 17), Decimal('0E-10')),\n",
       " (datetime.date(2017, 1, 17), Decimal('0E-10')),\n",
       " (datetime.date(2017, 1, 17), Decimal('0E-10')),\n",
       " (datetime.date(2017, 1, 17), Decimal('0E-10')),\n",
       " (datetime.date(2017, 1, 18), Decimal('0E-10')),\n",
       " (datetime.date(2017, 1, 18), Decimal('0E-10')),\n",
       " (datetime.date(2017, 1, 18), Decimal('0E-10')),\n",
       " (datetime.date(2017, 1, 18), Decimal('0E-10')),\n",
       " (datetime.date(2017, 1, 18), Decimal('0E-10')),\n",
       " (datetime.date(2017, 1, 18), Decimal('0E-10')),\n",
       " (datetime.date(2017, 1, 18), Decimal('0.0700000000')),\n",
       " (datetime.date(2017, 1, 19), Decimal('0E-10')),\n",
       " (datetime.date(2017, 1, 19), Decimal('0E-10')),\n",
       " (datetime.date(2017, 1, 19), Decimal('0E-10')),\n",
       " (datetime.date(2017, 1, 19), Decimal('0E-10')),\n",
       " (datetime.date(2017, 1, 19), Decimal('0E-10')),\n",
       " (datetime.date(2017, 1, 19), Decimal('0.0200000000')),\n",
       " (datetime.date(2017, 1, 19), Decimal('0E-10')),\n",
       " (datetime.date(2017, 1, 20), Decimal('0E-10')),\n",
       " (datetime.date(2017, 1, 20), Decimal('0E-10')),\n",
       " (datetime.date(2017, 1, 20), Decimal('0E-10')),\n",
       " (datetime.date(2017, 1, 20), Decimal('0E-10')),\n",
       " (datetime.date(2017, 1, 20), Decimal('0E-10')),\n",
       " (datetime.date(2017, 1, 20), Decimal('0E-10')),\n",
       " (datetime.date(2017, 1, 20), Decimal('0E-10')),\n",
       " (datetime.date(2017, 1, 21), Decimal('0E-10')),\n",
       " (datetime.date(2017, 1, 21), Decimal('0.0400000000')),\n",
       " (datetime.date(2017, 1, 21), Decimal('0.0200000000')),\n",
       " (datetime.date(2017, 1, 21), Decimal('0.1100000000')),\n",
       " (datetime.date(2017, 1, 21), Decimal('0.0300000000')),\n",
       " (datetime.date(2017, 1, 21), Decimal('0.0800000000')),\n",
       " (datetime.date(2017, 1, 22), Decimal('0.1600000000')),\n",
       " (datetime.date(2017, 1, 22), Decimal('0.0100000000')),\n",
       " (datetime.date(2017, 1, 22), Decimal('0.0400000000')),\n",
       " (datetime.date(2017, 1, 22), Decimal('0.0900000000')),\n",
       " (datetime.date(2017, 1, 22), Decimal('0.7200000000')),\n",
       " (datetime.date(2017, 1, 23), Decimal('0E-10')),\n",
       " (datetime.date(2017, 1, 23), Decimal('0.0800000000')),\n",
       " (datetime.date(2017, 1, 23), Decimal('0E-10')),\n",
       " (datetime.date(2017, 1, 23), Decimal('0E-10')),\n",
       " (datetime.date(2017, 1, 23), Decimal('0E-10')),\n",
       " (datetime.date(2017, 1, 23), Decimal('0.0100000000')),\n",
       " (datetime.date(2017, 1, 23), Decimal('0.8500000000')),\n",
       " (datetime.date(2017, 1, 24), Decimal('0.0400000000')),\n",
       " (datetime.date(2017, 1, 24), Decimal('0.1500000000')),\n",
       " (datetime.date(2017, 1, 24), Decimal('0E-10')),\n",
       " (datetime.date(2017, 1, 24), Decimal('0.0800000000')),\n",
       " (datetime.date(2017, 1, 24), Decimal('0.1300000000')),\n",
       " (datetime.date(2017, 1, 24), Decimal('1.8500000000')),\n",
       " (datetime.date(2017, 1, 25), Decimal('0.0300000000')),\n",
       " (datetime.date(2017, 1, 25), Decimal('0.1200000000')),\n",
       " (datetime.date(2017, 1, 25), Decimal('0E-10')),\n",
       " (datetime.date(2017, 1, 25), Decimal('0E-10')),\n",
       " (datetime.date(2017, 1, 25), Decimal('0E-10')),\n",
       " (datetime.date(2017, 1, 25), Decimal('0.7900000000')),\n",
       " (datetime.date(2017, 1, 25), Decimal('2.6400000000')),\n",
       " (datetime.date(2017, 1, 26), Decimal('0E-10')),\n",
       " (datetime.date(2017, 1, 26), Decimal('0E-10')),\n",
       " (datetime.date(2017, 1, 26), Decimal('0.0100000000')),\n",
       " (datetime.date(2017, 1, 26), Decimal('0E-10')),\n",
       " (datetime.date(2017, 1, 26), Decimal('0E-10')),\n",
       " (datetime.date(2017, 1, 26), Decimal('0E-10')),\n",
       " (datetime.date(2017, 1, 26), Decimal('0.1000000000')),\n",
       " (datetime.date(2017, 1, 27), Decimal('0E-10')),\n",
       " (datetime.date(2017, 1, 27), Decimal('0E-10')),\n",
       " (datetime.date(2017, 1, 27), Decimal('0E-10')),\n",
       " (datetime.date(2017, 1, 27), Decimal('0E-10')),\n",
       " (datetime.date(2017, 1, 27), Decimal('0E-10')),\n",
       " (datetime.date(2017, 1, 27), Decimal('0.0300000000')),\n",
       " (datetime.date(2017, 1, 27), Decimal('0.0300000000')),\n",
       " (datetime.date(2017, 1, 28), Decimal('0E-10')),\n",
       " (datetime.date(2017, 1, 28), Decimal('0.1400000000')),\n",
       " (datetime.date(2017, 1, 28), Decimal('0E-10')),\n",
       " (datetime.date(2017, 1, 28), Decimal('0E-10')),\n",
       " (datetime.date(2017, 1, 28), Decimal('0E-10')),\n",
       " (datetime.date(2017, 1, 29), Decimal('0.1800000000')),\n",
       " (datetime.date(2017, 1, 29), Decimal('0E-10')),\n",
       " ...]"
      ]
     },
     "execution_count": 16,
     "metadata": {},
     "output_type": "execute_result"
    }
   ],
   "source": [
    "past12prcp"
   ]
  },
  {
   "cell_type": "code",
   "execution_count": 17,
   "metadata": {},
   "outputs": [
    {
     "data": {
      "text/plain": [
       "datetime.date(2016, 8, 24)"
      ]
     },
     "execution_count": 17,
     "metadata": {},
     "output_type": "execute_result"
    }
   ],
   "source": [
    "past12prcp[0][0]"
   ]
  },
  {
   "cell_type": "code",
   "execution_count": 18,
   "metadata": {},
   "outputs": [
    {
     "data": {
      "text/plain": [
       "Decimal('0.0800000000')"
      ]
     },
     "execution_count": 18,
     "metadata": {},
     "output_type": "execute_result"
    }
   ],
   "source": [
    "past12prcp[0][1]"
   ]
  },
  {
   "cell_type": "code",
   "execution_count": 19,
   "metadata": {
    "collapsed": true
   },
   "outputs": [],
   "source": [
    "past12prcp_date=[]\n",
    "for i in range(len(past12prcp)):\n",
    "    past12prcp_date.append(past12prcp[i][0])    "
   ]
  },
  {
   "cell_type": "code",
   "execution_count": 20,
   "metadata": {
    "collapsed": true
   },
   "outputs": [],
   "source": [
    "past12prcp_prcp=[]\n",
    "for i in range(len(past12prcp)):\n",
    "    past12prcp_prcp.append(past12prcp[i][1])\n"
   ]
  },
  {
   "cell_type": "markdown",
   "metadata": {},
   "source": [
    "Place date and precipitation data into dataframe, check data types"
   ]
  },
  {
   "cell_type": "code",
   "execution_count": 21,
   "metadata": {},
   "outputs": [
    {
     "data": {
      "text/plain": [
       "Date                     object\n",
       "Precipitation_Measure    object\n",
       "dtype: object"
      ]
     },
     "execution_count": 21,
     "metadata": {},
     "output_type": "execute_result"
    }
   ],
   "source": [
    "prcp_df=pd.DataFrame({\"Date\":past12prcp_date,\"Precipitation_Measure\":past12prcp_prcp})\n",
    "prcp_df.dtypes"
   ]
  },
  {
   "cell_type": "code",
   "execution_count": 22,
   "metadata": {
    "collapsed": true
   },
   "outputs": [],
   "source": [
    "prcp_df[\"Precipitation_Measure\"]=pd.to_numeric(prcp_df[\"Precipitation_Measure\"])\n",
    "prcp_df=round(prcp_df[\"Precipitation_Measure\"].groupby(prcp_df[\"Date\"]).mean(),2)\n",
    "prcp_df=pd.DataFrame(prcp_df)"
   ]
  },
  {
   "cell_type": "code",
   "execution_count": 23,
   "metadata": {},
   "outputs": [
    {
     "data": {
      "text/html": [
       "<div>\n",
       "<style scoped>\n",
       "    .dataframe tbody tr th:only-of-type {\n",
       "        vertical-align: middle;\n",
       "    }\n",
       "\n",
       "    .dataframe tbody tr th {\n",
       "        vertical-align: top;\n",
       "    }\n",
       "\n",
       "    .dataframe thead th {\n",
       "        text-align: right;\n",
       "    }\n",
       "</style>\n",
       "<table border=\"1\" class=\"dataframe\">\n",
       "  <thead>\n",
       "    <tr style=\"text-align: right;\">\n",
       "      <th></th>\n",
       "      <th>Precipitation_Measure</th>\n",
       "    </tr>\n",
       "    <tr>\n",
       "      <th>Date</th>\n",
       "      <th></th>\n",
       "    </tr>\n",
       "  </thead>\n",
       "  <tbody>\n",
       "    <tr>\n",
       "      <th>2016-08-24</th>\n",
       "      <td>1.33</td>\n",
       "    </tr>\n",
       "    <tr>\n",
       "      <th>2016-08-25</th>\n",
       "      <td>0.08</td>\n",
       "    </tr>\n",
       "    <tr>\n",
       "      <th>2016-08-26</th>\n",
       "      <td>0.02</td>\n",
       "    </tr>\n",
       "    <tr>\n",
       "      <th>2016-08-27</th>\n",
       "      <td>0.05</td>\n",
       "    </tr>\n",
       "    <tr>\n",
       "      <th>2016-08-28</th>\n",
       "      <td>0.52</td>\n",
       "    </tr>\n",
       "  </tbody>\n",
       "</table>\n",
       "</div>"
      ],
      "text/plain": [
       "            Precipitation_Measure\n",
       "Date                             \n",
       "2016-08-24                   1.33\n",
       "2016-08-25                   0.08\n",
       "2016-08-26                   0.02\n",
       "2016-08-27                   0.05\n",
       "2016-08-28                   0.52"
      ]
     },
     "execution_count": 23,
     "metadata": {},
     "output_type": "execute_result"
    }
   ],
   "source": [
    "prcp_df.head()"
   ]
  },
  {
   "cell_type": "code",
   "execution_count": 25,
   "metadata": {},
   "outputs": [
    {
     "data": {
      "text/plain": [
       "[datetime.date(2016, 8, 24),\n",
       " datetime.date(2016, 9, 18),\n",
       " datetime.date(2016, 10, 13),\n",
       " datetime.date(2016, 11, 7),\n",
       " datetime.date(2016, 12, 2),\n",
       " datetime.date(2016, 12, 27),\n",
       " datetime.date(2017, 1, 21),\n",
       " datetime.date(2017, 2, 15),\n",
       " datetime.date(2017, 3, 12),\n",
       " datetime.date(2017, 4, 6),\n",
       " datetime.date(2017, 5, 1),\n",
       " datetime.date(2017, 5, 26),\n",
       " datetime.date(2017, 6, 20),\n",
       " datetime.date(2017, 7, 15),\n",
       " datetime.date(2017, 8, 9)]"
      ]
     },
     "execution_count": 25,
     "metadata": {},
     "output_type": "execute_result"
    }
   ],
   "source": [
    "tick_loc=np.arange(0,365,25)\n",
    "tick_label=[]\n",
    "for i in np.arange(0,365,25):\n",
    "    tick_label.append(prcp_df.index[i])\n",
    "tick_label"
   ]
  },
  {
   "cell_type": "code",
   "execution_count": 28,
   "metadata": {},
   "outputs": [
    {
     "data": {
      "image/png": "[encoded data removed]",
      "text/plain": [
       "<matplotlib.figure.Figure at 0x1abc6396be0>"
      ]
     },
     "metadata": {},
     "output_type": "display_data"
    }
   ],
   "source": [
    "prcp_df.plot.bar(figsize=(20,8),title=\"Precipitation Over 12 Months\",legend=True)\n",
    "sns.set_style(\"darkgrid\")\n",
    "plt.ylim(0,np.ceil(prcp_df[\"Precipitation_Measure\"].max()))\n",
    "#Arrange tick labels\n",
    "tick_loc=np.arange(0,365,25)\n",
    "tick_label=[]\n",
    "for i in np.arange(0,365,25):\n",
    "    tick_label.append(prcp_df.index[i])\n",
    "plt.xticks(tick_loc,tick_label,rotation=20)\n",
    "plt.text(5,2.75,\"Precipitation is Represented as Daily Average Rainfall from 9 stations\")\n",
    "plt.savefig(\"Precipitation_Over_12Months.png\")\n",
    "plt.show()"
   ]
  },
  {
   "cell_type": "code",
   "execution_count": 29,
   "metadata": {},
   "outputs": [
    {
     "data": {
      "text/html": [
       "<div>\n",
       "<style scoped>\n",
       "    .dataframe tbody tr th:only-of-type {\n",
       "        vertical-align: middle;\n",
       "    }\n",
       "\n",
       "    .dataframe tbody tr th {\n",
       "        vertical-align: top;\n",
       "    }\n",
       "\n",
       "    .dataframe thead th {\n",
       "        text-align: right;\n",
       "    }\n",
       "</style>\n",
       "<table border=\"1\" class=\"dataframe\">\n",
       "  <thead>\n",
       "    <tr style=\"text-align: right;\">\n",
       "      <th></th>\n",
       "      <th>Precipitation_Measure</th>\n",
       "    </tr>\n",
       "  </thead>\n",
       "  <tbody>\n",
       "    <tr>\n",
       "      <th>count</th>\n",
       "      <td>365.000000</td>\n",
       "    </tr>\n",
       "    <tr>\n",
       "      <th>mean</th>\n",
       "      <td>0.156247</td>\n",
       "    </tr>\n",
       "    <tr>\n",
       "      <th>std</th>\n",
       "      <td>0.275845</td>\n",
       "    </tr>\n",
       "    <tr>\n",
       "      <th>min</th>\n",
       "      <td>0.000000</td>\n",
       "    </tr>\n",
       "    <tr>\n",
       "      <th>25%</th>\n",
       "      <td>0.010000</td>\n",
       "    </tr>\n",
       "    <tr>\n",
       "      <th>50%</th>\n",
       "      <td>0.060000</td>\n",
       "    </tr>\n",
       "    <tr>\n",
       "      <th>75%</th>\n",
       "      <td>0.180000</td>\n",
       "    </tr>\n",
       "    <tr>\n",
       "      <th>max</th>\n",
       "      <td>2.040000</td>\n",
       "    </tr>\n",
       "  </tbody>\n",
       "</table>\n",
       "</div>"
      ],
      "text/plain": [
       "       Precipitation_Measure\n",
       "count             365.000000\n",
       "mean                0.156247\n",
       "std                 0.275845\n",
       "min                 0.000000\n",
       "25%                 0.010000\n",
       "50%                 0.060000\n",
       "75%                 0.180000\n",
       "max                 2.040000"
      ]
     },
     "execution_count": 29,
     "metadata": {},
     "output_type": "execute_result"
    }
   ],
   "source": [
    "prcp_df.describe()"
   ]
  },
  {
   "cell_type": "markdown",
   "metadata": {},
   "source": [
    "#### Station Analysis\n",
    "Design a query to calculate the total number of stations.\n",
    "\n",
    "Design a query to find the most active stations.\n",
    "\n",
    "List the stations and observation counts in descending order\n",
    "\n",
    "Which station has the highest number of observations?\n",
    "\n",
    "Design a query to retrieve the last 12 months of temperature observation data (tobs).\n",
    "\n",
    "Filter by the station with the highest number of observations.\n",
    "\n",
    "Plot the results as a histogram with bins=12."
   ]
  },
  {
   "cell_type": "markdown",
   "metadata": {},
   "source": [
    "Query to Calculate Total Number of Stations"
   ]
  },
  {
   "cell_type": "code",
   "execution_count": 31,
   "metadata": {},
   "outputs": [
    {
     "data": {
      "text/plain": [
       "[(9)]"
      ]
     },
     "execution_count": 31,
     "metadata": {},
     "output_type": "execute_result"
    }
   ],
   "source": [
    "station_count=session.query(func.count(station.station)).all()\n",
    "station_count"
   ]
  },
  {
   "cell_type": "markdown",
   "metadata": {},
   "source": [
    "Query to find the most active stations.\n",
    "* Station listed by observation count in descending order\n",
    "* Station with highest observations is printed"
   ]
  },
  {
   "cell_type": "code",
   "execution_count": 32,
   "metadata": {},
   "outputs": [
    {
     "data": {
      "text/plain": [
       "[('USC00519281', 'WAIHEE 837.5, HI US', 2772),\n",
       " ('USC00519397', 'WAIKIKI 717.2, HI US', 2724),\n",
       " ('USC00513117', 'KANEOHE 838.1, HI US', 2709),\n",
       " ('USC00519523', 'WAIMANALO EXPERIMENTAL FARM, HI US', 2669),\n",
       " ('USC00516128', 'MANOA LYON ARBO 785.2, HI US', 2612),\n",
       " ('USC00514830', 'KUALOA RANCH HEADQUARTERS 886.9, HI US', 2202),\n",
       " ('USC00511918', 'HONOLULU OBSERVATORY 702.2, HI US', 1979),\n",
       " ('USC00517948', 'PEARL CITY, HI US', 1372),\n",
       " ('USC00518838', 'UPPER WAHIAWA 874.3, HI US', 511)]"
      ]
     },
     "execution_count": 32,
     "metadata": {},
     "output_type": "execute_result"
    }
   ],
   "source": [
    "# for each station, count of the measurement.dates>groupby station>orderbycount to get total number of measurements per stations\n",
    "measurement_count=session.query(measurement.station,station.name,func.count(measurement.date))\\\n",
    "    .filter(station.station==measurement.station).group_by(measurement.station)\\\n",
    "    .order_by(func.count(measurement.date).desc()).all()\n",
    "measurement_count"
   ]
  },
  {
   "cell_type": "code",
   "execution_count": 33,
   "metadata": {},
   "outputs": [
    {
     "name": "stdout",
     "output_type": "stream",
     "text": [
      "The station with the highest observations is USC00519281 WAIHEE 837.5, HI US at 2772 number of observations\n"
     ]
    }
   ],
   "source": [
    "most_obs=session.query(measurement.station,station.name,func.count(measurement.date))\\\n",
    "    .filter(station.station==measurement.station).group_by(measurement.station)\\\n",
    "    .order_by(func.count(measurement.date).desc()).first()\n",
    "\n",
    "print(\"The station with the highest observations is {} {} at {} number of observations\"\\\n",
    "      .format(most_obs[0],most_obs[1],most_obs[2]))"
   ]
  },
  {
   "cell_type": "markdown",
   "metadata": {},
   "source": [
    "Design a query to retrieve the last 12 months of temperature observation data (tobs).\n",
    "* Filter by the station with the highest number of observations.\n",
    "* Plot the results as a histogram with bins=12."
   ]
  },
  {
   "cell_type": "code",
   "execution_count": 34,
   "metadata": {
    "collapsed": true
   },
   "outputs": [],
   "source": [
    "past12tobs=session.query(measurement.date,measurement.tobs).filter(measurement.date > query_start).order_by(measurement.date).all()"
   ]
  },
  {
   "cell_type": "code",
   "execution_count": 35,
   "metadata": {},
   "outputs": [
    {
     "data": {
      "text/plain": [
       "datetime.date(2016, 8, 24)"
      ]
     },
     "execution_count": 35,
     "metadata": {},
     "output_type": "execute_result"
    }
   ],
   "source": [
    "past12tobs[0][0]"
   ]
  },
  {
   "cell_type": "code",
   "execution_count": 36,
   "metadata": {},
   "outputs": [
    {
     "data": {
      "text/plain": [
       "79"
      ]
     },
     "execution_count": 36,
     "metadata": {},
     "output_type": "execute_result"
    }
   ],
   "source": [
    "past12tobs[0][1]"
   ]
  },
  {
   "cell_type": "code",
   "execution_count": 37,
   "metadata": {
    "collapsed": true
   },
   "outputs": [],
   "source": [
    "tobs=[]\n",
    "for i in range(len(past12tobs)):\n",
    "    tobs.append(past12tobs[i][1])   "
   ]
  },
  {
   "cell_type": "code",
   "execution_count": 38,
   "metadata": {},
   "outputs": [
    {
     "data": {
      "image/png": "[encoded data removed]",
      "text/plain": [
       "<matplotlib.figure.Figure at 0x1abc6e1cc50>"
      ]
     },
     "metadata": {},
     "output_type": "display_data"
    }
   ],
   "source": [
    "plt.figure(figsize=(10,8))\n",
    "plt.hist(tobs,bins=12)\n",
    "sns.set_style(\"darkgrid\")\n",
    "plt.title(\"Histogram of Rainfall Observations in Hawaii from Aug 2016 - Aug 2017\")\n",
    "plt.xlabel(\"Temperature (F)\")\n",
    "plt.ylabel(\"Number of Observations\")\n",
    "plt.text(58,550,\"Observations Taken from 9 Hawaii Stations\")\n",
    "plt.savefig(\"Images/Rainfaill_Histogram.png\")\n",
    "plt.show()"
   ]
  },
  {
   "cell_type": "markdown",
   "metadata": {},
   "source": [
    "#### Temperature Analysis"
   ]
  },
  {
   "cell_type": "markdown",
   "metadata": {},
   "source": [
    "The get_weather function allows users to see what the weather could be like during their vacation\n",
    "* Inputs: \n",
    "    * 2 inputs: Vacation Start Date,Vacation End Date\n",
    "    * Format: \"YYYY-MM-DD\"\n",
    "* Outputs:\n",
    "    * List of with the following information: [min_temp,avg_temp,max_temp]\n",
    "    \n",
    "Example: \n",
    "* Input:         calc_temps(\"2018-08-10\",\"2018-08-25\")\n",
    "* Output:        [70,78.24,85]"
   ]
  },
  {
   "cell_type": "code",
   "execution_count": 39,
   "metadata": {
    "collapsed": true
   },
   "outputs": [],
   "source": [
    "def calc_temps(vacay_start,vacay_end):\n",
    "    query_start=datetime.strptime(vacay_start,\"%Y-%m-%d\").date()-timedelta(days=365)\n",
    "    query_end=datetime.strptime(vacay_end,\"%Y-%m-%d\").date()-timedelta(days=365)\n",
    "    \n",
    "    min_temp=session.query(func.min(measurement.tobs)).filter(measurement.date >query_start, measurement.date<query_end).all()\n",
    "    max_temp=session.query(func.max(measurement.tobs)).filter(measurement.date >query_start, measurement.date<query_end).all()\n",
    "    avg_temp=session.query(func.avg(measurement.tobs)).filter(measurement.date >query_start, measurement.date<query_end).all()\n",
    "    avg_temp=round(avg_temp[0][0],2)\n",
    "    trip_temp=[min_temp[0][0],avg_temp,max_temp[0][0]]\n",
    "    return(trip_temp)"
   ]
  },
  {
   "cell_type": "code",
   "execution_count": 40,
   "metadata": {
    "collapsed": true
   },
   "outputs": [],
   "source": [
    "temp_range=calc_temps(vacay_start,vacay_end)[2]-calc_temps(vacay_start,vacay_end)[0]\n",
    "temp_avg=calc_temps(vacay_start,vacay_end)[1]"
   ]
  },
  {
   "cell_type": "markdown",
   "metadata": {},
   "source": [
    "Plotting the min, avg, and max temperature as a bar chart.\n",
    "* Avg temp is used for bar height\n",
    "* yerr is calculated using the difference between max and min temp"
   ]
  },
  {
   "cell_type": "code",
   "execution_count": 41,
   "metadata": {},
   "outputs": [
    {
     "data": {
      "image/png": "[encoded data removed]",
      "text/plain": [
       "<matplotlib.figure.Figure at 0x1abc6dc3e10>"
      ]
     },
     "metadata": {},
     "output_type": "display_data"
    }
   ],
   "source": [
    "plt.figure(figsize=(2,5))\n",
    "sns.set_style(\"darkgrid\")\n",
    "plt.bar(1,temp_avg,yerr=temp_range,color=\"lightcoral\")\n",
    "plt.xticks([])\n",
    "plt.ylim(0,temp_avg+(2*temp_range))\n",
    "plt.ylabel(\"Temperature (F)\")\n",
    "plt.title(\"Trip Average Temp\")\n",
    "plt.savefig(\"Images/Trip_Avg_Temp.png\")\n",
    "plt.show()"
   ]
  },
  {
   "cell_type": "markdown",
   "metadata": {},
   "source": [
    "#### Additional Analysis"
   ]
  },
  {
   "cell_type": "markdown",
   "metadata": {},
   "source": [
    "* Calculating avg rainfall per weather station using previous year's data for vacation dates"
   ]
  },
  {
   "cell_type": "code",
   "execution_count": 44,
   "metadata": {},
   "outputs": [
    {
     "data": {
      "text/plain": [
       "[('KUALOA RANCH HEADQUARTERS 886.9, HI US', 0.0036363636363636364),\n",
       " ('MANOA LYON ARBO 785.2, HI US', 0.22538461538461543),\n",
       " ('WAIHEE 837.5, HI US', 0.085),\n",
       " ('WAIKIKI 717.2, HI US', 0.0018181818181818182),\n",
       " ('WAIMANALO EXPERIMENTAL FARM, HI US', 0.03090909090909091)]"
      ]
     },
     "execution_count": 44,
     "metadata": {},
     "output_type": "execute_result"
    }
   ],
   "source": [
    "query_start=datetime.strptime(vacay_start,\"%Y-%m-%d\").date()-timedelta(days=365)\n",
    "query_end=datetime.strptime(vacay_end,\"%Y-%m-%d\").date()-timedelta(days=365)\n",
    "rain_station_data=session.query(station.name,func.avg(measurement.prcp))\\\n",
    "    .filter(station.station == measurement.station,measurement.date >query_start, measurement.date<query_end)\\\n",
    "    .group_by(station.name).all()\n",
    "rain_station_data"
   ]
  },
  {
   "cell_type": "code",
   "execution_count": 45,
   "metadata": {},
   "outputs": [
    {
     "data": {
      "text/html": [
       "<div>\n",
       "<style scoped>\n",
       "    .dataframe tbody tr th:only-of-type {\n",
       "        vertical-align: middle;\n",
       "    }\n",
       "\n",
       "    .dataframe tbody tr th {\n",
       "        vertical-align: top;\n",
       "    }\n",
       "\n",
       "    .dataframe thead th {\n",
       "        text-align: right;\n",
       "    }\n",
       "</style>\n",
       "<table border=\"1\" class=\"dataframe\">\n",
       "  <thead>\n",
       "    <tr style=\"text-align: right;\">\n",
       "      <th></th>\n",
       "      <th>Avg Precipitation</th>\n",
       "      <th>Station</th>\n",
       "    </tr>\n",
       "  </thead>\n",
       "  <tbody>\n",
       "    <tr>\n",
       "      <th>0</th>\n",
       "      <td>0.003636</td>\n",
       "      <td>KUALOA RANCH HEADQUARTERS 886.9, HI US</td>\n",
       "    </tr>\n",
       "    <tr>\n",
       "      <th>1</th>\n",
       "      <td>0.225385</td>\n",
       "      <td>MANOA LYON ARBO 785.2, HI US</td>\n",
       "    </tr>\n",
       "    <tr>\n",
       "      <th>2</th>\n",
       "      <td>0.085000</td>\n",
       "      <td>WAIHEE 837.5, HI US</td>\n",
       "    </tr>\n",
       "    <tr>\n",
       "      <th>3</th>\n",
       "      <td>0.001818</td>\n",
       "      <td>WAIKIKI 717.2, HI US</td>\n",
       "    </tr>\n",
       "    <tr>\n",
       "      <th>4</th>\n",
       "      <td>0.030909</td>\n",
       "      <td>WAIMANALO EXPERIMENTAL FARM, HI US</td>\n",
       "    </tr>\n",
       "  </tbody>\n",
       "</table>\n",
       "</div>"
      ],
      "text/plain": [
       "   Avg Precipitation                                 Station\n",
       "0           0.003636  KUALOA RANCH HEADQUARTERS 886.9, HI US\n",
       "1           0.225385            MANOA LYON ARBO 785.2, HI US\n",
       "2           0.085000                     WAIHEE 837.5, HI US\n",
       "3           0.001818                    WAIKIKI 717.2, HI US\n",
       "4           0.030909      WAIMANALO EXPERIMENTAL FARM, HI US"
      ]
     },
     "execution_count": 45,
     "metadata": {},
     "output_type": "execute_result"
    }
   ],
   "source": [
    "station_name=[]\n",
    "prcp_values=[]\n",
    "for i in range(len(rain_station_data)):\n",
    "    station_name.append(rain_station_data[i][0])\n",
    "    prcp_values.append(rain_station_data[i][1])\n",
    "trip_rain_df=pd.DataFrame({\"Station\":station_name,\"Avg Precipitation\":prcp_values})\n",
    "trip_rain_df"
   ]
  },
  {
   "cell_type": "markdown",
   "metadata": {},
   "source": [
    "* Calculate the daily normals. Normals are the averages for min, avg, and max temperatures."
   ]
  },
  {
   "cell_type": "code",
   "execution_count": 46,
   "metadata": {},
   "outputs": [
    {
     "data": {
      "text/plain": [
       "[(datetime.date(2017, 8, 11), 72, 78.0, 81),\n",
       " (datetime.date(2017, 8, 12), 74, 79.0, 83),\n",
       " (datetime.date(2017, 8, 13), 77, 80.6, 84),\n",
       " (datetime.date(2017, 8, 14), 75, 78.2, 81),\n",
       " (datetime.date(2017, 8, 15), 70, 77.2, 82),\n",
       " (datetime.date(2017, 8, 16), 71, 77.0, 82),\n",
       " (datetime.date(2017, 8, 17), 72, 77.25, 83),\n",
       " (datetime.date(2017, 8, 18), 76, 78.0, 80),\n",
       " (datetime.date(2017, 8, 19), 71, 78.75, 85),\n",
       " (datetime.date(2017, 8, 20), 78, 79.66666666666667, 81),\n",
       " (datetime.date(2017, 8, 21), 76, 79.5, 82),\n",
       " (datetime.date(2017, 8, 22), 76, 80.0, 82),\n",
       " (datetime.date(2017, 8, 23), 76, 80.25, 82)]"
      ]
     },
     "execution_count": 46,
     "metadata": {},
     "output_type": "execute_result"
    }
   ],
   "source": [
    "trip_norm=session.query(measurement.date,func.min(measurement.tobs),func.avg(measurement.tobs),func.max(measurement.tobs))\\\n",
    "    .filter(measurement.date >query_start, measurement.date<query_end)\\\n",
    "    .group_by(measurement.date).all()\n",
    "trip_norm"
   ]
  },
  {
   "cell_type": "code",
   "execution_count": 47,
   "metadata": {},
   "outputs": [
    {
     "data": {
      "text/html": [
       "<div>\n",
       "<style scoped>\n",
       "    .dataframe tbody tr th:only-of-type {\n",
       "        vertical-align: middle;\n",
       "    }\n",
       "\n",
       "    .dataframe tbody tr th {\n",
       "        vertical-align: top;\n",
       "    }\n",
       "\n",
       "    .dataframe thead th {\n",
       "        text-align: right;\n",
       "    }\n",
       "</style>\n",
       "<table border=\"1\" class=\"dataframe\">\n",
       "  <thead>\n",
       "    <tr style=\"text-align: right;\">\n",
       "      <th></th>\n",
       "      <th>Date</th>\n",
       "      <th>Min_Temp</th>\n",
       "      <th>Avg_Temp</th>\n",
       "      <th>Max_Temp</th>\n",
       "    </tr>\n",
       "  </thead>\n",
       "  <tbody>\n",
       "    <tr>\n",
       "      <th>0</th>\n",
       "      <td>2017-08-11</td>\n",
       "      <td>72.0</td>\n",
       "      <td>78.0</td>\n",
       "      <td>81.0</td>\n",
       "    </tr>\n",
       "    <tr>\n",
       "      <th>1</th>\n",
       "      <td>2017-08-12</td>\n",
       "      <td>74.0</td>\n",
       "      <td>79.0</td>\n",
       "      <td>83.0</td>\n",
       "    </tr>\n",
       "    <tr>\n",
       "      <th>2</th>\n",
       "      <td>2017-08-13</td>\n",
       "      <td>77.0</td>\n",
       "      <td>80.6</td>\n",
       "      <td>84.0</td>\n",
       "    </tr>\n",
       "    <tr>\n",
       "      <th>3</th>\n",
       "      <td>2017-08-14</td>\n",
       "      <td>75.0</td>\n",
       "      <td>78.2</td>\n",
       "      <td>81.0</td>\n",
       "    </tr>\n",
       "    <tr>\n",
       "      <th>4</th>\n",
       "      <td>2017-08-15</td>\n",
       "      <td>70.0</td>\n",
       "      <td>77.2</td>\n",
       "      <td>82.0</td>\n",
       "    </tr>\n",
       "  </tbody>\n",
       "</table>\n",
       "</div>"
      ],
      "text/plain": [
       "         Date  Min_Temp  Avg_Temp  Max_Temp\n",
       "0  2017-08-11      72.0      78.0      81.0\n",
       "1  2017-08-12      74.0      79.0      83.0\n",
       "2  2017-08-13      77.0      80.6      84.0\n",
       "3  2017-08-14      75.0      78.2      81.0\n",
       "4  2017-08-15      70.0      77.2      82.0"
      ]
     },
     "execution_count": 47,
     "metadata": {},
     "output_type": "execute_result"
    }
   ],
   "source": [
    "trip_norm_df=pd.DataFrame(OrderedDict({\"Date\":[],\"Min_Temp\":[],\"Avg_Temp\":[],\"Max_Temp\":[]}))\n",
    "for index in range(len(trip_norm)):\n",
    "    trip_norm_df.at[index,\"Date\"]=trip_norm[index][0]\n",
    "    trip_norm_df.at[index,\"Min_Temp\"]=trip_norm[index][1]\n",
    "    trip_norm_df.at[index,\"Avg_Temp\"]=trip_norm[index][2]\n",
    "    trip_norm_df.at[index,\"Max_Temp\"]=trip_norm[index][3]\n",
    "trip_norm_df.head()"
   ]
  },
  {
   "cell_type": "markdown",
   "metadata": {},
   "source": [
    "* The daily_normal function looks at the historical daily normals for a given day\n",
    "    * Input: 1 input in the format \"MM-DD\"\n",
    "    * Output: DataFrame indexed by Date containing columns for Min_Temp, Avg_Temp, Max_Temp"
   ]
  },
  {
   "cell_type": "code",
   "execution_count": 51,
   "metadata": {
    "collapsed": true
   },
   "outputs": [],
   "source": [
    "def daily_normal(query_month_day):\n",
    "    day_norm=session.query(measurement.date,func.min(measurement.tobs),func.avg(measurement.tobs),func.max(measurement.tobs))\\\n",
    "        .filter(func.strftime(\"%m-%d\",measurement.date)== query_month_day)\\\n",
    "        .group_by(measurement.date).all()\n",
    "    daily_normal_df=pd.DataFrame(OrderedDict({\"Date\":[],\"Min_Temp\":[],\"Avg_Temp\":[],\"Max_Temp\":[]}))\n",
    "    for index in range(len(day_norm)):\n",
    "        daily_normal_df.at[index,\"Date\"]=day_norm[index][0]\n",
    "        daily_normal_df.at[index,\"Min_Temp\"]=day_norm[index][1]\n",
    "        daily_normal_df.at[index,\"Avg_Temp\"]=day_norm[index][2]\n",
    "        daily_normal_df.at[index,\"Max_Temp\"]=day_norm[index][3]\n",
    "    daily_normal_df=daily_normal_df.set_index(\"Date\")\n",
    "    return(daily_normal_df)  \n"
   ]
  },
  {
   "cell_type": "markdown",
   "metadata": {},
   "source": [
    "* Used daily_normal function to create an area plot of the historical daily normals"
   ]
  },
  {
   "cell_type": "code",
   "execution_count": 52,
   "metadata": {
    "collapsed": true
   },
   "outputs": [],
   "source": [
    "day=\"08-19\""
   ]
  },
  {
   "cell_type": "code",
   "execution_count": 53,
   "metadata": {},
   "outputs": [
    {
     "data": {
      "image/png": "[encoded data removed]",
      "text/plain": [
       "<matplotlib.figure.Figure at 0x1abc684ba20>"
      ]
     },
     "metadata": {},
     "output_type": "display_data"
    }
   ],
   "source": [
    "sns.set_style(\"darkgrid\")\n",
    "daily_normal(day).plot(kind=\"area\",stacked=False,figsize=(10,6),color=[\"blue\",\"coral\",\"gold\"],alpha=0.4)\n",
    "plt.ylabel(\"Temperature (F)\")\n",
    "plt.ylim(40,100)\n",
    "plt.title(\"Hawaii Historical Daily Normals for {}\".format(day))\n",
    "plt.savefig(\"Images/Historical_Daily_Normals.png\")\n",
    "plt.show()\n"
   ]
  },
  {
   "cell_type": "markdown",
   "metadata": {},
   "source": [
    "## Step 4: Climate App"
   ]
  },
  {
   "cell_type": "markdown",
   "metadata": {
    "collapsed": true
   },
   "source": [
    "api/v1.0/precipitation\n",
    "\n",
    "* Query for the dates and temperature observations from the last year.\n",
    "\n",
    "* Convert the query results to a Dictionary using date as the key and tobs as the value.\n",
    "\n",
    "* Return the json representation of your dictionary."
   ]
  },
  {
   "cell_type": "code",
   "execution_count": 73,
   "metadata": {},
   "outputs": [],
   "source": [
    "app=Flask(__name__)"
   ]
  },
  {
   "cell_type": "code",
   "execution_count": 82,
   "metadata": {},
   "outputs": [],
   "source": [
    "@app.route(\"/api/v1.0/precipitation\")\n",
    "def last_year_prcp():\n",
    "    \"\"\"Return date and precipitation observations for most recent 12 months available data\"\"\"\n",
    "    #Get most recent date available from database and go back 12 months\n",
    "    most_recent=session.query(measurement.date).order_by(measurement.date.desc()).first()\n",
    "    start_search=most_recent[0]-timedelta(days=365)\n",
    "    #Query database for date and temp for last 12 months\n",
    "    temp_prcp_result=session.query(measurement.date,measurement.prcp).filter(measurement.date>start_search).all()\n",
    "    #Convert query results to dictionary using date:tobs\n",
    "    temp_prcp_dict={}\n",
    "    for i in range(len(temp_prcp_result)):\n",
    "        temp_prcp_dict[temp_prcp_result[i][0]]=temp_prcp_result[i][1]\n",
    "    #Return json representation of dictionary\n",
    "    return jsonify(temp_prcp_dict)\n",
    "#all_names = list(np.ravel(results))"
   ]
  },
  {
   "cell_type": "code",
   "execution_count": 80,
   "metadata": {
    "collapsed": true
   },
   "outputs": [],
   "source": [
    "#Return a json list of stations from the dataset.\n",
    "@app.route(\"/api/v1.0/stations\")\n",
    "def get_stations():\n",
    "    station_list=session.query(station.name).all()\n",
    "    return jsonify(station_list)\n",
    "    "
   ]
  },
  {
   "cell_type": "code",
   "execution_count": 83,
   "metadata": {},
   "outputs": [],
   "source": [
    "# Return a json list of Temperature Observations (tobs) for the previous year\n",
    "@app.route(\"/api/v1.0/tobs\")\n",
    "def last_year_tobs():\n",
    "    \"\"\"Return date and temperature observations for most recent 12 months available data\"\"\"\n",
    "    #Get most recent date available from database and go back 12 months\n",
    "    most_recent=session.query(measurement.date).order_by(measurement.date.desc()).first()\n",
    "    start_search=most_recent[0]-timedelta(days=365)\n",
    "    #Query database for date and temp for last 12 months\n",
    "    temptobs_result=session.query(measurement.tobs).filter(measurement.date>start_search).all()\n",
    "    #Return json response\n",
    "    return jsonify(temptobs)"
   ]
  },
  {
   "cell_type": "markdown",
   "metadata": {},
   "source": [
    "* Return a json list of the minimum temperature, the average temperature, and the max temperature for a given start or start-end range.\n",
    "\n",
    "* When given the start only, calculate TMIN, TAVG, and TMAX for all dates greater than and equal to the start date.\n",
    "\n",
    "* When given the start and the end date, calculate the TMIN, TAVG, and TMAX for dates between the start and end date inclusive."
   ]
  },
  {
   "cell_type": "code",
   "execution_count": null,
   "metadata": {
    "collapsed": true
   },
   "outputs": [],
   "source": [
    "#/api/v1.0/<start> and /api/v1.0/<start>/<end>\n",
    "@app.route(\"/api/v1.0/<start>and/api/v1.0/<start>/<end>\")"
   ]
  }
 ],
 "metadata": {
  "kernelspec": {
   "display_name": "Python [conda env:PythonData]",
   "language": "python",
   "name": "conda-env-PythonData-py"
  },
  "language_info": {
   "codemirror_mode": {
    "name": "ipython",
    "version": 3
   },
   "file_extension": ".py",
   "mimetype": "text/x-python",
   "name": "python",
   "nbconvert_exporter": "python",
   "pygments_lexer": "ipython3",
   "version": "3.6.3"
  }
 },
 "nbformat": 4,
 "nbformat_minor": 2
}
