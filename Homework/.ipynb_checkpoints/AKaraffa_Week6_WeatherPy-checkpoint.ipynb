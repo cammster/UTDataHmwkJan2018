{
 "cells": [
  {
   "cell_type": "code",
   "execution_count": 59,
   "metadata": {},
   "outputs": [],
   "source": [
    "import pandas as pd\n",
    "import os\n",
    "import numpy as np\n",
    "import matplotlib.pyplot as plt\n",
    "import seaborn as sns\n",
    "from citipy import citipy\n",
    "import random\n",
    "import requests as req\n",
    "import json"
   ]
  },
  {
   "cell_type": "code",
   "execution_count": 62,
   "metadata": {},
   "outputs": [
    {
     "data": {
      "text/plain": [
       "'{\\n    \"cod\": 401,\\n    \"message\": \"Invalid API key. Please see http://openweathermap.org/faq#error401 for more info.\"\\n}'"
      ]
     },
     "execution_count": 62,
     "metadata": {},
     "output_type": "execute_result"
    }
   ],
   "source": [
    "apikey=\"a0f4ad483dfe2b70590d60e151064065\"\n",
    "\n",
    "url=\"http://api.openweathermap.org/data/2.5/weather?\n",
    "# api.openweathermap.org/data/2.5/weather?lat={lat}&lon={lon}\n",
    "\n",
    "# api.openweathermap.org/data/2.5/weather?q=London,uk&APPID=a0f4ad483dfe2b70590d60e151064065\n",
    "la=22\n",
    "lon=120\n",
    "url1=url+\"lat=\"+str(la)+\"&lon=\"+str(lon)+\"&APPID=\"+apikey\n",
    "# url1=url+\"id=524901&appid=\"+apikey\n",
    "weather=req.get(url1).json()\n",
    "weather1=json.dumps(weather,indent=4)\n",
    "weather1"
   ]
  },
  {
   "cell_type": "code",
   "execution_count": null,
   "metadata": {
    "collapsed": true
   },
   "outputs": [],
   "source": [
    "url=\"http://api.openweathermap.org/data/2.5/weather"
   ]
  },
  {
   "cell_type": "code",
   "execution_count": null,
   "metadata": {
    "collapsed": true
   },
   "outputs": [],
   "source": [
    "url=\"http://api.openweathermap.org/data/2.5/weather"
   ]
  },
  {
   "cell_type": "code",
   "execution_count": null,
   "metadata": {
    "collapsed": true
   },
   "outputs": [],
   "source": [
    "url=\"http://api.openweathermap.org/data/2.5/weather"
   ]
  },
  {
   "cell_type": "code",
   "execution_count": null,
   "metadata": {
    "collapsed": true
   },
   "outputs": [],
   "source": [
    "url=\"http://api.openweathermap.org/data/2.5/weather"
   ]
  },
  {
   "cell_type": "code",
   "execution_count": null,
   "metadata": {
    "collapsed": true
   },
   "outputs": [],
   "source": [
    "url=\"http://api.openweathermap.org/data/2.5/weather"
   ]
  },
  {
   "cell_type": "code",
   "execution_count": 26,
   "metadata": {},
   "outputs": [],
   "source": [
    "# api.openweathermap.org/data/2.5/weather?lat={lat}&lon={lon}\n",
    "#Create random list of long and latitudesUse Citipy to get list of cities\n",
    "#lat goes from -/+90 and long goes +/- 180 - take random lat and long and run through citipy to get nearest cities \n",
    "latrange=list(np.arange(-90,90,0.01))   #should go to 3 decimal places with coordinates\n",
    "longrange=list(np.arange(-180,180,0.01))"
   ]
  },
  {
   "cell_type": "code",
   "execution_count": 40,
   "metadata": {},
   "outputs": [],
   "source": [
    "lat=random.sample(latrange,100)\n",
    "long=random.sample(longrange,100)"
   ]
  },
  {
   "cell_type": "code",
   "execution_count": 44,
   "metadata": {},
   "outputs": [
    {
     "data": {
      "text/html": [
       "<div>\n",
       "<style scoped>\n",
       "    .dataframe tbody tr th:only-of-type {\n",
       "        vertical-align: middle;\n",
       "    }\n",
       "\n",
       "    .dataframe tbody tr th {\n",
       "        vertical-align: top;\n",
       "    }\n",
       "\n",
       "    .dataframe thead th {\n",
       "        text-align: right;\n",
       "    }\n",
       "</style>\n",
       "<table border=\"1\" class=\"dataframe\">\n",
       "  <thead>\n",
       "    <tr style=\"text-align: right;\">\n",
       "      <th></th>\n",
       "      <th>Latitude</th>\n",
       "      <th>Longitude</th>\n",
       "      <th>City</th>\n",
       "      <th>Country</th>\n",
       "    </tr>\n",
       "  </thead>\n",
       "  <tbody>\n",
       "    <tr>\n",
       "      <th>0</th>\n",
       "      <td>30.74</td>\n",
       "      <td>17.88</td>\n",
       "      <td></td>\n",
       "      <td></td>\n",
       "    </tr>\n",
       "    <tr>\n",
       "      <th>1</th>\n",
       "      <td>-34.11</td>\n",
       "      <td>-34.44</td>\n",
       "      <td></td>\n",
       "      <td></td>\n",
       "    </tr>\n",
       "    <tr>\n",
       "      <th>2</th>\n",
       "      <td>-31.06</td>\n",
       "      <td>-82.90</td>\n",
       "      <td></td>\n",
       "      <td></td>\n",
       "    </tr>\n",
       "    <tr>\n",
       "      <th>3</th>\n",
       "      <td>-65.22</td>\n",
       "      <td>-170.84</td>\n",
       "      <td></td>\n",
       "      <td></td>\n",
       "    </tr>\n",
       "    <tr>\n",
       "      <th>4</th>\n",
       "      <td>-54.89</td>\n",
       "      <td>150.45</td>\n",
       "      <td></td>\n",
       "      <td></td>\n",
       "    </tr>\n",
       "  </tbody>\n",
       "</table>\n",
       "</div>"
      ],
      "text/plain": [
       "   Latitude  Longitude City Country\n",
       "0     30.74      17.88             \n",
       "1    -34.11     -34.44             \n",
       "2    -31.06     -82.90             \n",
       "3    -65.22    -170.84             \n",
       "4    -54.89     150.45             "
      ]
     },
     "execution_count": 44,
     "metadata": {},
     "output_type": "execute_result"
    }
   ],
   "source": [
    "cities=pd.DataFrame({\"Latitude\":lat,\"Longitude\":long})\n",
    "cities[\"City\"]=\"\"\n",
    "cities[\"Country\"]=\"\"\n",
    "cities.head()"
   ]
  },
  {
   "cell_type": "code",
   "execution_count": 43,
   "metadata": {},
   "outputs": [
    {
     "data": {
      "text/html": [
       "<div>\n",
       "<style scoped>\n",
       "    .dataframe tbody tr th:only-of-type {\n",
       "        vertical-align: middle;\n",
       "    }\n",
       "\n",
       "    .dataframe tbody tr th {\n",
       "        vertical-align: top;\n",
       "    }\n",
       "\n",
       "    .dataframe thead th {\n",
       "        text-align: right;\n",
       "    }\n",
       "</style>\n",
       "<table border=\"1\" class=\"dataframe\">\n",
       "  <thead>\n",
       "    <tr style=\"text-align: right;\">\n",
       "      <th></th>\n",
       "      <th>Latitude</th>\n",
       "      <th>Longitude</th>\n",
       "      <th>City</th>\n",
       "      <th>Country</th>\n",
       "    </tr>\n",
       "  </thead>\n",
       "  <tbody>\n",
       "    <tr>\n",
       "      <th>0</th>\n",
       "      <td>30.74</td>\n",
       "      <td>17.88</td>\n",
       "      <td>surt</td>\n",
       "      <td>ly</td>\n",
       "    </tr>\n",
       "    <tr>\n",
       "      <th>1</th>\n",
       "      <td>-34.11</td>\n",
       "      <td>-34.44</td>\n",
       "      <td>arraial do cabo</td>\n",
       "      <td>br</td>\n",
       "    </tr>\n",
       "    <tr>\n",
       "      <th>2</th>\n",
       "      <td>-31.06</td>\n",
       "      <td>-82.90</td>\n",
       "      <td>talcahuano</td>\n",
       "      <td>cl</td>\n",
       "    </tr>\n",
       "    <tr>\n",
       "      <th>3</th>\n",
       "      <td>-65.22</td>\n",
       "      <td>-170.84</td>\n",
       "      <td>vaini</td>\n",
       "      <td>to</td>\n",
       "    </tr>\n",
       "    <tr>\n",
       "      <th>4</th>\n",
       "      <td>-54.89</td>\n",
       "      <td>150.45</td>\n",
       "      <td>hobart</td>\n",
       "      <td>au</td>\n",
       "    </tr>\n",
       "  </tbody>\n",
       "</table>\n",
       "</div>"
      ],
      "text/plain": [
       "   Latitude  Longitude             City Country\n",
       "0     30.74      17.88             surt      ly\n",
       "1    -34.11     -34.44  arraial do cabo      br\n",
       "2    -31.06     -82.90       talcahuano      cl\n",
       "3    -65.22    -170.84            vaini      to\n",
       "4    -54.89     150.45           hobart      au"
      ]
     },
     "execution_count": 43,
     "metadata": {},
     "output_type": "execute_result"
    }
   ],
   "source": [
    "for index in range(len(cities.index)):\n",
    "    lati=cities.at[index,\"Latitude\"]\n",
    "    longi=cities.at[index,\"Longitude\"]\n",
    "    city=citipy.nearest_city(lati,longi)\n",
    "    cities.at[index,\"City\"]=city.city_name\n",
    "    cities.at[index,\"Country\"]=city.country_code\n",
    "cities.head()"
   ]
  },
  {
   "cell_type": "code",
   "execution_count": 47,
   "metadata": {
    "collapsed": true
   },
   "outputs": [],
   "source": [
    "# api.openweathermap.org/data/2.5/weather?lat={lat}&lon={lon}\n",
    "#Pull from open weather api to collect more data for each\n",
    "cities[\"Wind Speed\"]=\"\"\n",
    "cities[\"Cloudiness\"]=\"\"\n",
    "cities[\"Humidity\"]=\"\"\n",
    "cities[\"Wind Speed\"]=\"\""
   ]
  },
  {
   "cell_type": "code",
   "execution_count": null,
   "metadata": {
    "collapsed": true
   },
   "outputs": [],
   "source": [
    "# response=req.get(url+\"address=\"+cities_pd[\"City\"][index]+\",+\"+cities_pd[\"State\"][index]+\"&key=\"+gkey).json()\n",
    "# for index in range(len(cities.index)):\n",
    "#     weather=req.get(url)"
   ]
  }
 ],
 "metadata": {
  "kernelspec": {
   "display_name": "Python 3",
   "language": "python",
   "name": "python3"
  },
  "language_info": {
   "codemirror_mode": {
    "name": "ipython",
    "version": 3
   },
   "file_extension": ".py",
   "mimetype": "text/x-python",
   "name": "python",
   "nbconvert_exporter": "python",
   "pygments_lexer": "ipython3",
   "version": "3.6.3"
  }
 },
 "nbformat": 4,
 "nbformat_minor": 2
}
